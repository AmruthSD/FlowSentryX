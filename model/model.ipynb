{
  "cells": [
    {
      "cell_type": "markdown",
      "metadata": {
        "id": "0Woy1F9LXdl4"
      },
      "source": [
        "This will be the user space program to pretrain the ML model to\n",
        "classify between malicious and normal packets. There are multiple ways\n",
        "in which an ML model can be deployed and fit in the flow of the packets.\n",
        "\n",
        "One way is using the XDP_AF sockets and sending data collected about the\n",
        "packets from kernel space to the user space, where the ML model decides the\n",
        "fate of the packet, does nothing (for drop) or sends packet to the corresponding\n",
        "user space application after processing it in the required way. This could\n",
        "also be implemented in other ways using perf buffer, polling etc.\n",
        "\n",
        "\n",
        "Another approach would be to implement the ML model within the kernel and that\n",
        "is the approach currently adopted.\n",
        "\n",
        "Currently, we are implemented a basic in-kernel very simple (logisticRegression)NN\n",
        "for classification of the packets. We are going to do quantization-aware-training in\n",
        "the user space and we will store the quantized weights in a BPF map.\n",
        "\n",
        "Since the kernel has the following restrictions :\n",
        "    (1) limitations on the quantity of eBPF instructions and stack space,\n",
        "    (2) prohibitions on unbounded loops, non-static global variables, variadic functions,\n",
        "        multi-threaded programming, and floating-point representation, and\n",
        "    (3) enforcement of array bound checks\n",
        "\n",
        "We will go for a simple model, which would involve less complex calculations sa well\n",
        "\n",
        "These weights can be updated as we collect more data and used to train the model\n",
        "after certain intervals of time. Maybe at the end of every 24 hours. But this feature\n",
        "will be implemented soon.\n"
      ]
    },
    {
      "cell_type": "code",
      "execution_count": 25,
      "metadata": {
        "id": "7C0pycLngVky"
      },
      "outputs": [],
      "source": [
        "import glob\n",
        "import os\n",
        "import random\n",
        "import zipfile\n",
        "\n",
        "import numpy as np\n",
        "import pandas as pd\n",
        "\n",
        "from sklearn.model_selection import train_test_split\n",
        "\n",
        "import torch\n",
        "import torch.nn as nn\n",
        "from torch.quantization import QuantStub, DeQuantStub\n",
        "\n",
        "from tqdm import tqdm\n",
        "from pathlib import Path"
      ]
    },
    {
      "cell_type": "markdown",
      "metadata": {
        "id": "R83r1bB6WgUh"
      },
      "source": [
        "# Getting the CICIDS Dataset from Kaggle"
      ]
    },
    {
      "cell_type": "code",
      "execution_count": 2,
      "metadata": {
        "colab": {
          "base_uri": "https://localhost:8080/"
        },
        "id": "plYt_hqViP3s",
        "outputId": "29fb2a0c-501e-487d-87ac-4b575b48f504"
      },
      "outputs": [
        {
          "name": "stdout",
          "output_type": "stream",
          "text": [
            "Requirement already satisfied: kaggle in /usr/local/lib/python3.10/dist-packages (1.5.16)\n",
            "Requirement already satisfied: six>=1.10 in /usr/local/lib/python3.10/dist-packages (from kaggle) (1.16.0)\n",
            "Requirement already satisfied: certifi in /usr/local/lib/python3.10/dist-packages (from kaggle) (2024.2.2)\n",
            "Requirement already satisfied: python-dateutil in /usr/local/lib/python3.10/dist-packages (from kaggle) (2.8.2)\n",
            "Requirement already satisfied: requests in /usr/local/lib/python3.10/dist-packages (from kaggle) (2.31.0)\n",
            "Requirement already satisfied: tqdm in /usr/local/lib/python3.10/dist-packages (from kaggle) (4.66.2)\n",
            "Requirement already satisfied: python-slugify in /usr/local/lib/python3.10/dist-packages (from kaggle) (8.0.4)\n",
            "Requirement already satisfied: urllib3 in /usr/local/lib/python3.10/dist-packages (from kaggle) (2.0.7)\n",
            "Requirement already satisfied: bleach in /usr/local/lib/python3.10/dist-packages (from kaggle) (6.1.0)\n",
            "Requirement already satisfied: webencodings in /usr/local/lib/python3.10/dist-packages (from bleach->kaggle) (0.5.1)\n",
            "Requirement already satisfied: text-unidecode>=1.3 in /usr/local/lib/python3.10/dist-packages (from python-slugify->kaggle) (1.3)\n",
            "Requirement already satisfied: charset-normalizer<4,>=2 in /usr/local/lib/python3.10/dist-packages (from requests->kaggle) (3.3.2)\n",
            "Requirement already satisfied: idna<4,>=2.5 in /usr/local/lib/python3.10/dist-packages (from requests->kaggle) (3.6)\n"
          ]
        }
      ],
      "source": [
        "!pip install kaggle"
      ]
    },
    {
      "cell_type": "code",
      "execution_count": 3,
      "metadata": {
        "id": "ZD3SwjlXi1he"
      },
      "outputs": [],
      "source": [
        "mkdir ~/.kaggle"
      ]
    },
    {
      "cell_type": "code",
      "execution_count": 4,
      "metadata": {
        "id": "1EqfeKAIi4uq"
      },
      "outputs": [],
      "source": [
        "cp kaggle.json ~/.kaggle/"
      ]
    },
    {
      "cell_type": "code",
      "execution_count": 5,
      "metadata": {
        "id": "219VBOFQi-oy"
      },
      "outputs": [],
      "source": [
        "!chmod 600 ~/.kaggle/kaggle.json"
      ]
    },
    {
      "cell_type": "code",
      "execution_count": 6,
      "metadata": {
        "colab": {
          "base_uri": "https://localhost:8080/"
        },
        "id": "LSJkNTbriNpw",
        "outputId": "83e5c035-4bae-4233-acdd-2e8acb548722"
      },
      "outputs": [
        {
          "name": "stdout",
          "output_type": "stream",
          "text": [
            "Downloading cicids2017.zip to /content\n",
            " 91% 209M/230M [00:03<00:00, 89.7MB/s]\n",
            "100% 230M/230M [00:03<00:00, 77.4MB/s]\n"
          ]
        }
      ],
      "source": [
        "!kaggle datasets download -d cicdataset/cicids2017"
      ]
    },
    {
      "cell_type": "code",
      "execution_count": 7,
      "metadata": {
        "colab": {
          "base_uri": "https://localhost:8080/"
        },
        "id": "25IagtT5jM7G",
        "outputId": "cdcac503-0f44-4de2-dfa4-17c8e9b213a1"
      },
      "outputs": [
        {
          "name": "stdout",
          "output_type": "stream",
          "text": [
            "Archive:  cicids2017.zip\n",
            "  inflating: MachineLearningCSV.md5  \n",
            "  inflating: MachineLearningCSV/MachineLearningCVE/Friday-WorkingHours-Afternoon-DDos.pcap_ISCX.csv  \n",
            "  inflating: MachineLearningCSV/MachineLearningCVE/Friday-WorkingHours-Afternoon-PortScan.pcap_ISCX.csv  \n",
            "  inflating: MachineLearningCSV/MachineLearningCVE/Friday-WorkingHours-Morning.pcap_ISCX.csv  \n",
            "  inflating: MachineLearningCSV/MachineLearningCVE/Monday-WorkingHours.pcap_ISCX.csv  \n",
            "  inflating: MachineLearningCSV/MachineLearningCVE/Thursday-WorkingHours-Afternoon-Infilteration.pcap_ISCX.csv  \n",
            "  inflating: MachineLearningCSV/MachineLearningCVE/Thursday-WorkingHours-Morning-WebAttacks.pcap_ISCX.csv  \n",
            "  inflating: MachineLearningCSV/MachineLearningCVE/Tuesday-WorkingHours.pcap_ISCX.csv  \n",
            "  inflating: MachineLearningCSV/MachineLearningCVE/Wednesday-workingHours.pcap_ISCX.csv  \n"
          ]
        }
      ],
      "source": [
        "!unzip cicids2017.zip"
      ]
    },
    {
      "cell_type": "markdown",
      "metadata": {
        "id": "AhJhb5m_XH6k"
      },
      "source": [
        "# Loading the dataset into a dataframe"
      ]
    },
    {
      "cell_type": "code",
      "execution_count": 8,
      "metadata": {
        "colab": {
          "base_uri": "https://localhost:8080/"
        },
        "id": "idwselDDCfEP",
        "outputId": "805a250d-8081-44dc-c54d-01c429baa2e4"
      },
      "outputs": [
        {
          "data": {
            "text/plain": [
              "[]"
            ]
          },
          "execution_count": 8,
          "metadata": {},
          "output_type": "execute_result"
        }
      ],
      "source": [
        "# list all csv files only\n",
        "csv_files = glob.glob('*.{}'.format('csv'))\n",
        "csv_files"
      ]
    },
    {
      "cell_type": "code",
      "execution_count": 9,
      "metadata": {
        "colab": {
          "base_uri": "https://localhost:8080/"
        },
        "id": "JoombkvVRrCK",
        "outputId": "0cdedbd2-cc4e-451f-fc12-216de3066756"
      },
      "outputs": [
        {
          "name": "stdout",
          "output_type": "stream",
          "text": [
            "          Destination Port   Flow Duration   Total Fwd Packets  \\\n",
            "0                      389       113095465                  48   \n",
            "1                      389       113473706                  68   \n",
            "2                        0       119945515                 150   \n",
            "3                      443        60261928                   9   \n",
            "4                       53             269                   2   \n",
            "...                    ...             ...                 ...   \n",
            "2830738                443          196135                  49   \n",
            "2830739                443          378424                  49   \n",
            "2830740                443          161800                  70   \n",
            "2830741                443          142864                  50   \n",
            "2830742                443          186928                  46   \n",
            "\n",
            "          Total Backward Packets  Total Length of Fwd Packets  \\\n",
            "0                             24                         9668   \n",
            "1                             40                        11364   \n",
            "2                              0                            0   \n",
            "3                              7                         2330   \n",
            "4                              2                          102   \n",
            "...                          ...                          ...   \n",
            "2830738                       57                         1331   \n",
            "2830739                       59                         1325   \n",
            "2830740                      103                         1427   \n",
            "2830741                       62                         1331   \n",
            "2830742                       57                         1319   \n",
            "\n",
            "          Total Length of Bwd Packets   Fwd Packet Length Max  \\\n",
            "0                               10012                     403   \n",
            "1                               12718                     403   \n",
            "2                                   0                       0   \n",
            "3                                4221                    1093   \n",
            "4                                 322                      51   \n",
            "...                               ...                     ...   \n",
            "2830738                        105841                     570   \n",
            "2830739                        104393                     570   \n",
            "2830740                        215903                     570   \n",
            "2830741                        110185                     570   \n",
            "2830742                        100049                     570   \n",
            "\n",
            "          Fwd Packet Length Min   Fwd Packet Length Mean  \\\n",
            "0                             0               201.416667   \n",
            "1                             0               167.117647   \n",
            "2                             0                 0.000000   \n",
            "3                             0               258.888889   \n",
            "4                            51                51.000000   \n",
            "...                         ...                      ...   \n",
            "2830738                       0                27.163265   \n",
            "2830739                       0                27.040816   \n",
            "2830740                       0                20.385714   \n",
            "2830741                       0                26.620000   \n",
            "2830742                       0                28.673913   \n",
            "\n",
            "          Fwd Packet Length Std  ...   min_seg_size_forward  Active Mean  \\\n",
            "0                    203.548293  ...                     32   203985.500   \n",
            "1                    171.919413  ...                     32   178326.875   \n",
            "2                      0.000000  ...                      0  6909777.333   \n",
            "3                    409.702161  ...                     20        0.000   \n",
            "4                      0.000000  ...                     32        0.000   \n",
            "...                         ...  ...                    ...          ...   \n",
            "2830738              108.067176  ...                     20        0.000   \n",
            "2830739              108.095051  ...                     20        0.000   \n",
            "2830740               90.746389  ...                     20        0.000   \n",
            "2830741              107.027727  ...                     20        0.000   \n",
            "2830742              111.438085  ...                     20        0.000   \n",
            "\n",
            "           Active Std   Active Max   Active Min   Idle Mean      Idle Std  \\\n",
            "0        5.758373e+05      1629110          379  13800000.0  4.277541e+06   \n",
            "1        5.034269e+05      1424245          325  13800000.0  4.229413e+06   \n",
            "2        1.170000e+07     20400000            6  24400000.0  2.430000e+07   \n",
            "3        0.000000e+00            0            0         0.0  0.000000e+00   \n",
            "4        0.000000e+00            0            0         0.0  0.000000e+00   \n",
            "...               ...          ...          ...         ...           ...   \n",
            "2830738  0.000000e+00            0            0         0.0  0.000000e+00   \n",
            "2830739  0.000000e+00            0            0         0.0  0.000000e+00   \n",
            "2830740  0.000000e+00            0            0         0.0  0.000000e+00   \n",
            "2830741  0.000000e+00            0            0         0.0  0.000000e+00   \n",
            "2830742  0.000000e+00            0            0         0.0  0.000000e+00   \n",
            "\n",
            "          Idle Max   Idle Min   Label  \n",
            "0         16500000    6737603  BENIGN  \n",
            "1         16500000    6945512  BENIGN  \n",
            "2         60100000    5702188  BENIGN  \n",
            "3                0          0  BENIGN  \n",
            "4                0          0  BENIGN  \n",
            "...            ...        ...     ...  \n",
            "2830738          0          0  BENIGN  \n",
            "2830739          0          0  BENIGN  \n",
            "2830740          0          0  BENIGN  \n",
            "2830741          0          0  BENIGN  \n",
            "2830742          0          0  BENIGN  \n",
            "\n",
            "[2830743 rows x 79 columns]\n"
          ]
        }
      ],
      "source": [
        "# merging the files\n",
        "\n",
        "# if local system use PATH = \"dataset/archive/MachineLearningCSV/MachineLearningCVE/\"\n",
        "# else if on colab use PATH = \"/content/MachineLearningCSV/MachineLearningCVE\"\n",
        "PATH = \"/content/MachineLearningCSV/MachineLearningCVE\"\n",
        "joined_files = os.path.join(PATH, \"*.csv\")\n",
        "\n",
        "# A list of all joined files is returned\n",
        "joined_list = glob.glob(joined_files)\n",
        "\n",
        "# Finally, the files are joined\n",
        "df_concat = pd.concat(map(pd.read_csv, joined_list), ignore_index=True)\n",
        "print(df_concat)"
      ]
    },
    {
      "cell_type": "code",
      "execution_count": 10,
      "metadata": {
        "colab": {
          "base_uri": "https://localhost:8080/",
          "height": 325
        },
        "id": "Cj9GW6hmGgDV",
        "outputId": "adb9be6a-34e9-4944-f9dc-0e75d237f890"
      },
      "outputs": [
        {
          "name": "stderr",
          "output_type": "stream",
          "text": [
            "<ipython-input-10-4cb7c74aa1b2>:1: FutureWarning: The default value of regex will change from True to False in a future version. In addition, single character regular expressions will *not* be treated as literal strings when regex=True.\n",
            "  df_concat.columns = df_concat.columns.str.strip().str.lower().str.replace(' ', '_').str.replace('(', '').str.replace(')', '')\n",
            "<ipython-input-10-4cb7c74aa1b2>:1: FutureWarning: The default value of regex will change from True to False in a future version. In addition, single character regular expressions will *not* be treated as literal strings when regex=True.\n",
            "  df_concat.columns = df_concat.columns.str.strip().str.lower().str.replace(' ', '_').str.replace('(', '').str.replace(')', '')\n"
          ]
        },
        {
          "data": {
            "application/vnd.google.colaboratory.intrinsic+json": {
              "type": "dataframe",
              "variable_name": "df_concat"
            },
            "text/html": [
              "\n",
              "  <div id=\"df-e0b12bb6-49c2-4818-87a3-3ecb5dcd17e9\" class=\"colab-df-container\">\n",
              "    <div>\n",
              "<style scoped>\n",
              "    .dataframe tbody tr th:only-of-type {\n",
              "        vertical-align: middle;\n",
              "    }\n",
              "\n",
              "    .dataframe tbody tr th {\n",
              "        vertical-align: top;\n",
              "    }\n",
              "\n",
              "    .dataframe thead th {\n",
              "        text-align: right;\n",
              "    }\n",
              "</style>\n",
              "<table border=\"1\" class=\"dataframe\">\n",
              "  <thead>\n",
              "    <tr style=\"text-align: right;\">\n",
              "      <th></th>\n",
              "      <th>destination_port</th>\n",
              "      <th>flow_duration</th>\n",
              "      <th>total_fwd_packets</th>\n",
              "      <th>total_backward_packets</th>\n",
              "      <th>total_length_of_fwd_packets</th>\n",
              "      <th>total_length_of_bwd_packets</th>\n",
              "      <th>fwd_packet_length_max</th>\n",
              "      <th>fwd_packet_length_min</th>\n",
              "      <th>fwd_packet_length_mean</th>\n",
              "      <th>fwd_packet_length_std</th>\n",
              "      <th>...</th>\n",
              "      <th>min_seg_size_forward</th>\n",
              "      <th>active_mean</th>\n",
              "      <th>active_std</th>\n",
              "      <th>active_max</th>\n",
              "      <th>active_min</th>\n",
              "      <th>idle_mean</th>\n",
              "      <th>idle_std</th>\n",
              "      <th>idle_max</th>\n",
              "      <th>idle_min</th>\n",
              "      <th>label</th>\n",
              "    </tr>\n",
              "  </thead>\n",
              "  <tbody>\n",
              "    <tr>\n",
              "      <th>0</th>\n",
              "      <td>389</td>\n",
              "      <td>113095465</td>\n",
              "      <td>48</td>\n",
              "      <td>24</td>\n",
              "      <td>9668</td>\n",
              "      <td>10012</td>\n",
              "      <td>403</td>\n",
              "      <td>0</td>\n",
              "      <td>201.416667</td>\n",
              "      <td>203.548293</td>\n",
              "      <td>...</td>\n",
              "      <td>32</td>\n",
              "      <td>203985.500</td>\n",
              "      <td>5.758373e+05</td>\n",
              "      <td>1629110</td>\n",
              "      <td>379</td>\n",
              "      <td>13800000.0</td>\n",
              "      <td>4.277541e+06</td>\n",
              "      <td>16500000</td>\n",
              "      <td>6737603</td>\n",
              "      <td>BENIGN</td>\n",
              "    </tr>\n",
              "    <tr>\n",
              "      <th>1</th>\n",
              "      <td>389</td>\n",
              "      <td>113473706</td>\n",
              "      <td>68</td>\n",
              "      <td>40</td>\n",
              "      <td>11364</td>\n",
              "      <td>12718</td>\n",
              "      <td>403</td>\n",
              "      <td>0</td>\n",
              "      <td>167.117647</td>\n",
              "      <td>171.919413</td>\n",
              "      <td>...</td>\n",
              "      <td>32</td>\n",
              "      <td>178326.875</td>\n",
              "      <td>5.034269e+05</td>\n",
              "      <td>1424245</td>\n",
              "      <td>325</td>\n",
              "      <td>13800000.0</td>\n",
              "      <td>4.229413e+06</td>\n",
              "      <td>16500000</td>\n",
              "      <td>6945512</td>\n",
              "      <td>BENIGN</td>\n",
              "    </tr>\n",
              "    <tr>\n",
              "      <th>2</th>\n",
              "      <td>0</td>\n",
              "      <td>119945515</td>\n",
              "      <td>150</td>\n",
              "      <td>0</td>\n",
              "      <td>0</td>\n",
              "      <td>0</td>\n",
              "      <td>0</td>\n",
              "      <td>0</td>\n",
              "      <td>0.000000</td>\n",
              "      <td>0.000000</td>\n",
              "      <td>...</td>\n",
              "      <td>0</td>\n",
              "      <td>6909777.333</td>\n",
              "      <td>1.170000e+07</td>\n",
              "      <td>20400000</td>\n",
              "      <td>6</td>\n",
              "      <td>24400000.0</td>\n",
              "      <td>2.430000e+07</td>\n",
              "      <td>60100000</td>\n",
              "      <td>5702188</td>\n",
              "      <td>BENIGN</td>\n",
              "    </tr>\n",
              "    <tr>\n",
              "      <th>3</th>\n",
              "      <td>443</td>\n",
              "      <td>60261928</td>\n",
              "      <td>9</td>\n",
              "      <td>7</td>\n",
              "      <td>2330</td>\n",
              "      <td>4221</td>\n",
              "      <td>1093</td>\n",
              "      <td>0</td>\n",
              "      <td>258.888889</td>\n",
              "      <td>409.702161</td>\n",
              "      <td>...</td>\n",
              "      <td>20</td>\n",
              "      <td>0.000</td>\n",
              "      <td>0.000000e+00</td>\n",
              "      <td>0</td>\n",
              "      <td>0</td>\n",
              "      <td>0.0</td>\n",
              "      <td>0.000000e+00</td>\n",
              "      <td>0</td>\n",
              "      <td>0</td>\n",
              "      <td>BENIGN</td>\n",
              "    </tr>\n",
              "    <tr>\n",
              "      <th>4</th>\n",
              "      <td>53</td>\n",
              "      <td>269</td>\n",
              "      <td>2</td>\n",
              "      <td>2</td>\n",
              "      <td>102</td>\n",
              "      <td>322</td>\n",
              "      <td>51</td>\n",
              "      <td>51</td>\n",
              "      <td>51.000000</td>\n",
              "      <td>0.000000</td>\n",
              "      <td>...</td>\n",
              "      <td>32</td>\n",
              "      <td>0.000</td>\n",
              "      <td>0.000000e+00</td>\n",
              "      <td>0</td>\n",
              "      <td>0</td>\n",
              "      <td>0.0</td>\n",
              "      <td>0.000000e+00</td>\n",
              "      <td>0</td>\n",
              "      <td>0</td>\n",
              "      <td>BENIGN</td>\n",
              "    </tr>\n",
              "  </tbody>\n",
              "</table>\n",
              "<p>5 rows × 79 columns</p>\n",
              "</div>\n",
              "    <div class=\"colab-df-buttons\">\n",
              "\n",
              "  <div class=\"colab-df-container\">\n",
              "    <button class=\"colab-df-convert\" onclick=\"convertToInteractive('df-e0b12bb6-49c2-4818-87a3-3ecb5dcd17e9')\"\n",
              "            title=\"Convert this dataframe to an interactive table.\"\n",
              "            style=\"display:none;\">\n",
              "\n",
              "  <svg xmlns=\"http://www.w3.org/2000/svg\" height=\"24px\" viewBox=\"0 -960 960 960\">\n",
              "    <path d=\"M120-120v-720h720v720H120Zm60-500h600v-160H180v160Zm220 220h160v-160H400v160Zm0 220h160v-160H400v160ZM180-400h160v-160H180v160Zm440 0h160v-160H620v160ZM180-180h160v-160H180v160Zm440 0h160v-160H620v160Z\"/>\n",
              "  </svg>\n",
              "    </button>\n",
              "\n",
              "  <style>\n",
              "    .colab-df-container {\n",
              "      display:flex;\n",
              "      gap: 12px;\n",
              "    }\n",
              "\n",
              "    .colab-df-convert {\n",
              "      background-color: #E8F0FE;\n",
              "      border: none;\n",
              "      border-radius: 50%;\n",
              "      cursor: pointer;\n",
              "      display: none;\n",
              "      fill: #1967D2;\n",
              "      height: 32px;\n",
              "      padding: 0 0 0 0;\n",
              "      width: 32px;\n",
              "    }\n",
              "\n",
              "    .colab-df-convert:hover {\n",
              "      background-color: #E2EBFA;\n",
              "      box-shadow: 0px 1px 2px rgba(60, 64, 67, 0.3), 0px 1px 3px 1px rgba(60, 64, 67, 0.15);\n",
              "      fill: #174EA6;\n",
              "    }\n",
              "\n",
              "    .colab-df-buttons div {\n",
              "      margin-bottom: 4px;\n",
              "    }\n",
              "\n",
              "    [theme=dark] .colab-df-convert {\n",
              "      background-color: #3B4455;\n",
              "      fill: #D2E3FC;\n",
              "    }\n",
              "\n",
              "    [theme=dark] .colab-df-convert:hover {\n",
              "      background-color: #434B5C;\n",
              "      box-shadow: 0px 1px 3px 1px rgba(0, 0, 0, 0.15);\n",
              "      filter: drop-shadow(0px 1px 2px rgba(0, 0, 0, 0.3));\n",
              "      fill: #FFFFFF;\n",
              "    }\n",
              "  </style>\n",
              "\n",
              "    <script>\n",
              "      const buttonEl =\n",
              "        document.querySelector('#df-e0b12bb6-49c2-4818-87a3-3ecb5dcd17e9 button.colab-df-convert');\n",
              "      buttonEl.style.display =\n",
              "        google.colab.kernel.accessAllowed ? 'block' : 'none';\n",
              "\n",
              "      async function convertToInteractive(key) {\n",
              "        const element = document.querySelector('#df-e0b12bb6-49c2-4818-87a3-3ecb5dcd17e9');\n",
              "        const dataTable =\n",
              "          await google.colab.kernel.invokeFunction('convertToInteractive',\n",
              "                                                    [key], {});\n",
              "        if (!dataTable) return;\n",
              "\n",
              "        const docLinkHtml = 'Like what you see? Visit the ' +\n",
              "          '<a target=\"_blank\" href=https://colab.research.google.com/notebooks/data_table.ipynb>data table notebook</a>'\n",
              "          + ' to learn more about interactive tables.';\n",
              "        element.innerHTML = '';\n",
              "        dataTable['output_type'] = 'display_data';\n",
              "        await google.colab.output.renderOutput(dataTable, element);\n",
              "        const docLink = document.createElement('div');\n",
              "        docLink.innerHTML = docLinkHtml;\n",
              "        element.appendChild(docLink);\n",
              "      }\n",
              "    </script>\n",
              "  </div>\n",
              "\n",
              "\n",
              "<div id=\"df-6158e4e1-7527-4ea9-810f-968a1b0c4cd9\">\n",
              "  <button class=\"colab-df-quickchart\" onclick=\"quickchart('df-6158e4e1-7527-4ea9-810f-968a1b0c4cd9')\"\n",
              "            title=\"Suggest charts\"\n",
              "            style=\"display:none;\">\n",
              "\n",
              "<svg xmlns=\"http://www.w3.org/2000/svg\" height=\"24px\"viewBox=\"0 0 24 24\"\n",
              "     width=\"24px\">\n",
              "    <g>\n",
              "        <path d=\"M19 3H5c-1.1 0-2 .9-2 2v14c0 1.1.9 2 2 2h14c1.1 0 2-.9 2-2V5c0-1.1-.9-2-2-2zM9 17H7v-7h2v7zm4 0h-2V7h2v10zm4 0h-2v-4h2v4z\"/>\n",
              "    </g>\n",
              "</svg>\n",
              "  </button>\n",
              "\n",
              "<style>\n",
              "  .colab-df-quickchart {\n",
              "      --bg-color: #E8F0FE;\n",
              "      --fill-color: #1967D2;\n",
              "      --hover-bg-color: #E2EBFA;\n",
              "      --hover-fill-color: #174EA6;\n",
              "      --disabled-fill-color: #AAA;\n",
              "      --disabled-bg-color: #DDD;\n",
              "  }\n",
              "\n",
              "  [theme=dark] .colab-df-quickchart {\n",
              "      --bg-color: #3B4455;\n",
              "      --fill-color: #D2E3FC;\n",
              "      --hover-bg-color: #434B5C;\n",
              "      --hover-fill-color: #FFFFFF;\n",
              "      --disabled-bg-color: #3B4455;\n",
              "      --disabled-fill-color: #666;\n",
              "  }\n",
              "\n",
              "  .colab-df-quickchart {\n",
              "    background-color: var(--bg-color);\n",
              "    border: none;\n",
              "    border-radius: 50%;\n",
              "    cursor: pointer;\n",
              "    display: none;\n",
              "    fill: var(--fill-color);\n",
              "    height: 32px;\n",
              "    padding: 0;\n",
              "    width: 32px;\n",
              "  }\n",
              "\n",
              "  .colab-df-quickchart:hover {\n",
              "    background-color: var(--hover-bg-color);\n",
              "    box-shadow: 0 1px 2px rgba(60, 64, 67, 0.3), 0 1px 3px 1px rgba(60, 64, 67, 0.15);\n",
              "    fill: var(--button-hover-fill-color);\n",
              "  }\n",
              "\n",
              "  .colab-df-quickchart-complete:disabled,\n",
              "  .colab-df-quickchart-complete:disabled:hover {\n",
              "    background-color: var(--disabled-bg-color);\n",
              "    fill: var(--disabled-fill-color);\n",
              "    box-shadow: none;\n",
              "  }\n",
              "\n",
              "  .colab-df-spinner {\n",
              "    border: 2px solid var(--fill-color);\n",
              "    border-color: transparent;\n",
              "    border-bottom-color: var(--fill-color);\n",
              "    animation:\n",
              "      spin 1s steps(1) infinite;\n",
              "  }\n",
              "\n",
              "  @keyframes spin {\n",
              "    0% {\n",
              "      border-color: transparent;\n",
              "      border-bottom-color: var(--fill-color);\n",
              "      border-left-color: var(--fill-color);\n",
              "    }\n",
              "    20% {\n",
              "      border-color: transparent;\n",
              "      border-left-color: var(--fill-color);\n",
              "      border-top-color: var(--fill-color);\n",
              "    }\n",
              "    30% {\n",
              "      border-color: transparent;\n",
              "      border-left-color: var(--fill-color);\n",
              "      border-top-color: var(--fill-color);\n",
              "      border-right-color: var(--fill-color);\n",
              "    }\n",
              "    40% {\n",
              "      border-color: transparent;\n",
              "      border-right-color: var(--fill-color);\n",
              "      border-top-color: var(--fill-color);\n",
              "    }\n",
              "    60% {\n",
              "      border-color: transparent;\n",
              "      border-right-color: var(--fill-color);\n",
              "    }\n",
              "    80% {\n",
              "      border-color: transparent;\n",
              "      border-right-color: var(--fill-color);\n",
              "      border-bottom-color: var(--fill-color);\n",
              "    }\n",
              "    90% {\n",
              "      border-color: transparent;\n",
              "      border-bottom-color: var(--fill-color);\n",
              "    }\n",
              "  }\n",
              "</style>\n",
              "\n",
              "  <script>\n",
              "    async function quickchart(key) {\n",
              "      const quickchartButtonEl =\n",
              "        document.querySelector('#' + key + ' button');\n",
              "      quickchartButtonEl.disabled = true;  // To prevent multiple clicks.\n",
              "      quickchartButtonEl.classList.add('colab-df-spinner');\n",
              "      try {\n",
              "        const charts = await google.colab.kernel.invokeFunction(\n",
              "            'suggestCharts', [key], {});\n",
              "      } catch (error) {\n",
              "        console.error('Error during call to suggestCharts:', error);\n",
              "      }\n",
              "      quickchartButtonEl.classList.remove('colab-df-spinner');\n",
              "      quickchartButtonEl.classList.add('colab-df-quickchart-complete');\n",
              "    }\n",
              "    (() => {\n",
              "      let quickchartButtonEl =\n",
              "        document.querySelector('#df-6158e4e1-7527-4ea9-810f-968a1b0c4cd9 button');\n",
              "      quickchartButtonEl.style.display =\n",
              "        google.colab.kernel.accessAllowed ? 'block' : 'none';\n",
              "    })();\n",
              "  </script>\n",
              "</div>\n",
              "\n",
              "    </div>\n",
              "  </div>\n"
            ],
            "text/plain": [
              "   destination_port  flow_duration  total_fwd_packets  total_backward_packets  \\\n",
              "0               389      113095465                 48                      24   \n",
              "1               389      113473706                 68                      40   \n",
              "2                 0      119945515                150                       0   \n",
              "3               443       60261928                  9                       7   \n",
              "4                53            269                  2                       2   \n",
              "\n",
              "   total_length_of_fwd_packets  total_length_of_bwd_packets  \\\n",
              "0                         9668                        10012   \n",
              "1                        11364                        12718   \n",
              "2                            0                            0   \n",
              "3                         2330                         4221   \n",
              "4                          102                          322   \n",
              "\n",
              "   fwd_packet_length_max  fwd_packet_length_min  fwd_packet_length_mean  \\\n",
              "0                    403                      0              201.416667   \n",
              "1                    403                      0              167.117647   \n",
              "2                      0                      0                0.000000   \n",
              "3                   1093                      0              258.888889   \n",
              "4                     51                     51               51.000000   \n",
              "\n",
              "   fwd_packet_length_std  ...  min_seg_size_forward  active_mean  \\\n",
              "0             203.548293  ...                    32   203985.500   \n",
              "1             171.919413  ...                    32   178326.875   \n",
              "2               0.000000  ...                     0  6909777.333   \n",
              "3             409.702161  ...                    20        0.000   \n",
              "4               0.000000  ...                    32        0.000   \n",
              "\n",
              "     active_std  active_max  active_min   idle_mean      idle_std  idle_max  \\\n",
              "0  5.758373e+05     1629110         379  13800000.0  4.277541e+06  16500000   \n",
              "1  5.034269e+05     1424245         325  13800000.0  4.229413e+06  16500000   \n",
              "2  1.170000e+07    20400000           6  24400000.0  2.430000e+07  60100000   \n",
              "3  0.000000e+00           0           0         0.0  0.000000e+00         0   \n",
              "4  0.000000e+00           0           0         0.0  0.000000e+00         0   \n",
              "\n",
              "   idle_min   label  \n",
              "0   6737603  BENIGN  \n",
              "1   6945512  BENIGN  \n",
              "2   5702188  BENIGN  \n",
              "3         0  BENIGN  \n",
              "4         0  BENIGN  \n",
              "\n",
              "[5 rows x 79 columns]"
            ]
          },
          "execution_count": 10,
          "metadata": {},
          "output_type": "execute_result"
        }
      ],
      "source": [
        "df_concat.columns = df_concat.columns.str.strip().str.lower().str.replace(' ', '_').str.replace('(', '').str.replace(')', '')\n",
        "df_concat.head()"
      ]
    },
    {
      "cell_type": "code",
      "execution_count": 11,
      "metadata": {
        "colab": {
          "base_uri": "https://localhost:8080/"
        },
        "id": "iJ-kPDiUEy-C",
        "outputId": "e7c68a71-c8c0-4657-d1c5-9adbee5fa48f"
      },
      "outputs": [
        {
          "data": {
            "text/plain": [
              "array(['BENIGN', 'Web Attack � Brute Force', 'Web Attack � XSS',\n",
              "       'Web Attack � Sql Injection', 'Infiltration', 'FTP-Patator',\n",
              "       'SSH-Patator', 'Bot', 'DoS slowloris', 'DoS Slowhttptest',\n",
              "       'DoS Hulk', 'DoS GoldenEye', 'Heartbleed', 'DDoS', 'PortScan'],\n",
              "      dtype=object)"
            ]
          },
          "execution_count": 11,
          "metadata": {},
          "output_type": "execute_result"
        }
      ],
      "source": [
        "df_labels = df_concat['label']\n",
        "df_labels.unique()"
      ]
    },
    {
      "cell_type": "code",
      "execution_count": 12,
      "metadata": {
        "colab": {
          "base_uri": "https://localhost:8080/"
        },
        "id": "SmQJgwUtFi8D",
        "outputId": "6d73e899-6988-4c1b-bf91-71e9e7abc8e4"
      },
      "outputs": [
        {
          "name": "stdout",
          "output_type": "stream",
          "text": [
            "<class 'pandas.core.frame.DataFrame'>\n",
            "RangeIndex: 2830743 entries, 0 to 2830742\n",
            "Data columns (total 79 columns):\n",
            " #   Column                       Dtype  \n",
            "---  ------                       -----  \n",
            " 0   destination_port             int64  \n",
            " 1   flow_duration                int64  \n",
            " 2   total_fwd_packets            int64  \n",
            " 3   total_backward_packets       int64  \n",
            " 4   total_length_of_fwd_packets  int64  \n",
            " 5   total_length_of_bwd_packets  int64  \n",
            " 6   fwd_packet_length_max        int64  \n",
            " 7   fwd_packet_length_min        int64  \n",
            " 8   fwd_packet_length_mean       float64\n",
            " 9   fwd_packet_length_std        float64\n",
            " 10  bwd_packet_length_max        int64  \n",
            " 11  bwd_packet_length_min        int64  \n",
            " 12  bwd_packet_length_mean       float64\n",
            " 13  bwd_packet_length_std        float64\n",
            " 14  flow_bytes/s                 float64\n",
            " 15  flow_packets/s               float64\n",
            " 16  flow_iat_mean                float64\n",
            " 17  flow_iat_std                 float64\n",
            " 18  flow_iat_max                 int64  \n",
            " 19  flow_iat_min                 int64  \n",
            " 20  fwd_iat_total                int64  \n",
            " 21  fwd_iat_mean                 float64\n",
            " 22  fwd_iat_std                  float64\n",
            " 23  fwd_iat_max                  int64  \n",
            " 24  fwd_iat_min                  int64  \n",
            " 25  bwd_iat_total                int64  \n",
            " 26  bwd_iat_mean                 float64\n",
            " 27  bwd_iat_std                  float64\n",
            " 28  bwd_iat_max                  int64  \n",
            " 29  bwd_iat_min                  int64  \n",
            " 30  fwd_psh_flags                int64  \n",
            " 31  bwd_psh_flags                int64  \n",
            " 32  fwd_urg_flags                int64  \n",
            " 33  bwd_urg_flags                int64  \n",
            " 34  fwd_header_length            int64  \n",
            " 35  bwd_header_length            int64  \n",
            " 36  fwd_packets/s                float64\n",
            " 37  bwd_packets/s                float64\n",
            " 38  min_packet_length            int64  \n",
            " 39  max_packet_length            int64  \n",
            " 40  packet_length_mean           float64\n",
            " 41  packet_length_std            float64\n",
            " 42  packet_length_variance       float64\n",
            " 43  fin_flag_count               int64  \n",
            " 44  syn_flag_count               int64  \n",
            " 45  rst_flag_count               int64  \n",
            " 46  psh_flag_count               int64  \n",
            " 47  ack_flag_count               int64  \n",
            " 48  urg_flag_count               int64  \n",
            " 49  cwe_flag_count               int64  \n",
            " 50  ece_flag_count               int64  \n",
            " 51  down/up_ratio                int64  \n",
            " 52  average_packet_size          float64\n",
            " 53  avg_fwd_segment_size         float64\n",
            " 54  avg_bwd_segment_size         float64\n",
            " 55  fwd_header_length.1          int64  \n",
            " 56  fwd_avg_bytes/bulk           int64  \n",
            " 57  fwd_avg_packets/bulk         int64  \n",
            " 58  fwd_avg_bulk_rate            int64  \n",
            " 59  bwd_avg_bytes/bulk           int64  \n",
            " 60  bwd_avg_packets/bulk         int64  \n",
            " 61  bwd_avg_bulk_rate            int64  \n",
            " 62  subflow_fwd_packets          int64  \n",
            " 63  subflow_fwd_bytes            int64  \n",
            " 64  subflow_bwd_packets          int64  \n",
            " 65  subflow_bwd_bytes            int64  \n",
            " 66  init_win_bytes_forward       int64  \n",
            " 67  init_win_bytes_backward      int64  \n",
            " 68  act_data_pkt_fwd             int64  \n",
            " 69  min_seg_size_forward         int64  \n",
            " 70  active_mean                  float64\n",
            " 71  active_std                   float64\n",
            " 72  active_max                   int64  \n",
            " 73  active_min                   int64  \n",
            " 74  idle_mean                    float64\n",
            " 75  idle_std                     float64\n",
            " 76  idle_max                     int64  \n",
            " 77  idle_min                     int64  \n",
            " 78  label                        object \n",
            "dtypes: float64(24), int64(54), object(1)\n",
            "memory usage: 1.7+ GB\n"
          ]
        }
      ],
      "source": [
        "df_concat.info()"
      ]
    },
    {
      "cell_type": "code",
      "execution_count": 13,
      "metadata": {
        "colab": {
          "base_uri": "https://localhost:8080/",
          "height": 478
        },
        "id": "xYZBoXRSH7jV",
        "outputId": "0c941f46-8672-4a5c-dbd6-12d62d38ae42"
      },
      "outputs": [
        {
          "name": "stderr",
          "output_type": "stream",
          "text": [
            "<ipython-input-13-26fdf3a4e505>:1: FutureWarning: The default value of numeric_only in DataFrame.corr is deprecated. In a future version, it will default to False. Select only valid columns or specify the value of numeric_only to silence this warning.\n",
            "  df_concat.corr()\n"
          ]
        },
        {
          "data": {
            "application/vnd.google.colaboratory.intrinsic+json": {
              "type": "dataframe"
            },
            "text/html": [
              "\n",
              "  <div id=\"df-3d82a1b0-9981-499d-8e66-e7d9b5885542\" class=\"colab-df-container\">\n",
              "    <div>\n",
              "<style scoped>\n",
              "    .dataframe tbody tr th:only-of-type {\n",
              "        vertical-align: middle;\n",
              "    }\n",
              "\n",
              "    .dataframe tbody tr th {\n",
              "        vertical-align: top;\n",
              "    }\n",
              "\n",
              "    .dataframe thead th {\n",
              "        text-align: right;\n",
              "    }\n",
              "</style>\n",
              "<table border=\"1\" class=\"dataframe\">\n",
              "  <thead>\n",
              "    <tr style=\"text-align: right;\">\n",
              "      <th></th>\n",
              "      <th>destination_port</th>\n",
              "      <th>flow_duration</th>\n",
              "      <th>total_fwd_packets</th>\n",
              "      <th>total_backward_packets</th>\n",
              "      <th>total_length_of_fwd_packets</th>\n",
              "      <th>total_length_of_bwd_packets</th>\n",
              "      <th>fwd_packet_length_max</th>\n",
              "      <th>fwd_packet_length_min</th>\n",
              "      <th>fwd_packet_length_mean</th>\n",
              "      <th>fwd_packet_length_std</th>\n",
              "      <th>...</th>\n",
              "      <th>act_data_pkt_fwd</th>\n",
              "      <th>min_seg_size_forward</th>\n",
              "      <th>active_mean</th>\n",
              "      <th>active_std</th>\n",
              "      <th>active_max</th>\n",
              "      <th>active_min</th>\n",
              "      <th>idle_mean</th>\n",
              "      <th>idle_std</th>\n",
              "      <th>idle_max</th>\n",
              "      <th>idle_min</th>\n",
              "    </tr>\n",
              "  </thead>\n",
              "  <tbody>\n",
              "    <tr>\n",
              "      <th>destination_port</th>\n",
              "      <td>1.000000</td>\n",
              "      <td>-0.151680</td>\n",
              "      <td>-0.004236</td>\n",
              "      <td>-0.003947</td>\n",
              "      <td>0.011145</td>\n",
              "      <td>-0.003082</td>\n",
              "      <td>0.097926</td>\n",
              "      <td>-0.045388</td>\n",
              "      <td>0.140220</td>\n",
              "      <td>0.128861</td>\n",
              "      <td>...</td>\n",
              "      <td>-0.003226</td>\n",
              "      <td>0.000897</td>\n",
              "      <td>-0.035562</td>\n",
              "      <td>-0.043717</td>\n",
              "      <td>-0.051859</td>\n",
              "      <td>-0.023194</td>\n",
              "      <td>-0.112585</td>\n",
              "      <td>0.010399</td>\n",
              "      <td>-0.108185</td>\n",
              "      <td>-0.114614</td>\n",
              "    </tr>\n",
              "    <tr>\n",
              "      <th>flow_duration</th>\n",
              "      <td>-0.151680</td>\n",
              "      <td>1.000000</td>\n",
              "      <td>0.020857</td>\n",
              "      <td>0.019670</td>\n",
              "      <td>0.065456</td>\n",
              "      <td>0.016186</td>\n",
              "      <td>0.273308</td>\n",
              "      <td>-0.105230</td>\n",
              "      <td>0.143689</td>\n",
              "      <td>0.234437</td>\n",
              "      <td>...</td>\n",
              "      <td>0.015942</td>\n",
              "      <td>-0.001357</td>\n",
              "      <td>0.189299</td>\n",
              "      <td>0.241060</td>\n",
              "      <td>0.294034</td>\n",
              "      <td>0.121171</td>\n",
              "      <td>0.768034</td>\n",
              "      <td>0.243154</td>\n",
              "      <td>0.779527</td>\n",
              "      <td>0.738328</td>\n",
              "    </tr>\n",
              "    <tr>\n",
              "      <th>total_fwd_packets</th>\n",
              "      <td>-0.004236</td>\n",
              "      <td>0.020857</td>\n",
              "      <td>1.000000</td>\n",
              "      <td>0.999070</td>\n",
              "      <td>0.365508</td>\n",
              "      <td>0.996993</td>\n",
              "      <td>0.009358</td>\n",
              "      <td>-0.002989</td>\n",
              "      <td>0.000032</td>\n",
              "      <td>0.001403</td>\n",
              "      <td>...</td>\n",
              "      <td>0.887387</td>\n",
              "      <td>-0.000184</td>\n",
              "      <td>0.039937</td>\n",
              "      <td>0.008329</td>\n",
              "      <td>0.030459</td>\n",
              "      <td>0.041283</td>\n",
              "      <td>0.001820</td>\n",
              "      <td>0.000809</td>\n",
              "      <td>0.001906</td>\n",
              "      <td>0.001670</td>\n",
              "    </tr>\n",
              "    <tr>\n",
              "      <th>total_backward_packets</th>\n",
              "      <td>-0.003947</td>\n",
              "      <td>0.019670</td>\n",
              "      <td>0.999070</td>\n",
              "      <td>1.000000</td>\n",
              "      <td>0.359451</td>\n",
              "      <td>0.994429</td>\n",
              "      <td>0.009039</td>\n",
              "      <td>-0.002600</td>\n",
              "      <td>-0.000333</td>\n",
              "      <td>0.001026</td>\n",
              "      <td>...</td>\n",
              "      <td>0.882566</td>\n",
              "      <td>0.000018</td>\n",
              "      <td>0.038963</td>\n",
              "      <td>0.006437</td>\n",
              "      <td>0.028602</td>\n",
              "      <td>0.041278</td>\n",
              "      <td>0.001425</td>\n",
              "      <td>0.000492</td>\n",
              "      <td>0.001456</td>\n",
              "      <td>0.001330</td>\n",
              "    </tr>\n",
              "    <tr>\n",
              "      <th>total_length_of_fwd_packets</th>\n",
              "      <td>0.011145</td>\n",
              "      <td>0.065456</td>\n",
              "      <td>0.365508</td>\n",
              "      <td>0.359451</td>\n",
              "      <td>1.000000</td>\n",
              "      <td>0.353762</td>\n",
              "      <td>0.197030</td>\n",
              "      <td>-0.000275</td>\n",
              "      <td>0.185262</td>\n",
              "      <td>0.159787</td>\n",
              "      <td>...</td>\n",
              "      <td>0.407448</td>\n",
              "      <td>-0.001209</td>\n",
              "      <td>0.101084</td>\n",
              "      <td>0.103326</td>\n",
              "      <td>0.126493</td>\n",
              "      <td>0.068325</td>\n",
              "      <td>0.022660</td>\n",
              "      <td>0.027064</td>\n",
              "      <td>0.026079</td>\n",
              "      <td>0.018634</td>\n",
              "    </tr>\n",
              "    <tr>\n",
              "      <th>...</th>\n",
              "      <td>...</td>\n",
              "      <td>...</td>\n",
              "      <td>...</td>\n",
              "      <td>...</td>\n",
              "      <td>...</td>\n",
              "      <td>...</td>\n",
              "      <td>...</td>\n",
              "      <td>...</td>\n",
              "      <td>...</td>\n",
              "      <td>...</td>\n",
              "      <td>...</td>\n",
              "      <td>...</td>\n",
              "      <td>...</td>\n",
              "      <td>...</td>\n",
              "      <td>...</td>\n",
              "      <td>...</td>\n",
              "      <td>...</td>\n",
              "      <td>...</td>\n",
              "      <td>...</td>\n",
              "      <td>...</td>\n",
              "      <td>...</td>\n",
              "    </tr>\n",
              "    <tr>\n",
              "      <th>active_min</th>\n",
              "      <td>-0.023194</td>\n",
              "      <td>0.121171</td>\n",
              "      <td>0.041283</td>\n",
              "      <td>0.041278</td>\n",
              "      <td>0.068325</td>\n",
              "      <td>0.039069</td>\n",
              "      <td>0.105641</td>\n",
              "      <td>-0.025912</td>\n",
              "      <td>0.081170</td>\n",
              "      <td>0.094164</td>\n",
              "      <td>...</td>\n",
              "      <td>0.031394</td>\n",
              "      <td>-0.006834</td>\n",
              "      <td>0.905862</td>\n",
              "      <td>0.033874</td>\n",
              "      <td>0.584503</td>\n",
              "      <td>1.000000</td>\n",
              "      <td>0.118133</td>\n",
              "      <td>0.038302</td>\n",
              "      <td>0.122651</td>\n",
              "      <td>0.112880</td>\n",
              "    </tr>\n",
              "    <tr>\n",
              "      <th>idle_mean</th>\n",
              "      <td>-0.112585</td>\n",
              "      <td>0.768034</td>\n",
              "      <td>0.001820</td>\n",
              "      <td>0.001425</td>\n",
              "      <td>0.022660</td>\n",
              "      <td>0.000809</td>\n",
              "      <td>0.181135</td>\n",
              "      <td>-0.071304</td>\n",
              "      <td>0.127959</td>\n",
              "      <td>0.183139</td>\n",
              "      <td>...</td>\n",
              "      <td>0.000837</td>\n",
              "      <td>-0.000876</td>\n",
              "      <td>0.120171</td>\n",
              "      <td>0.036551</td>\n",
              "      <td>0.088904</td>\n",
              "      <td>0.118133</td>\n",
              "      <td>1.000000</td>\n",
              "      <td>0.150248</td>\n",
              "      <td>0.990387</td>\n",
              "      <td>0.990215</td>\n",
              "    </tr>\n",
              "    <tr>\n",
              "      <th>idle_std</th>\n",
              "      <td>0.010399</td>\n",
              "      <td>0.243154</td>\n",
              "      <td>0.000809</td>\n",
              "      <td>0.000492</td>\n",
              "      <td>0.027064</td>\n",
              "      <td>0.000105</td>\n",
              "      <td>0.178091</td>\n",
              "      <td>-0.029951</td>\n",
              "      <td>0.178462</td>\n",
              "      <td>0.191278</td>\n",
              "      <td>...</td>\n",
              "      <td>0.000721</td>\n",
              "      <td>-0.003720</td>\n",
              "      <td>0.070586</td>\n",
              "      <td>0.081435</td>\n",
              "      <td>0.070002</td>\n",
              "      <td>0.038302</td>\n",
              "      <td>0.150248</td>\n",
              "      <td>1.000000</td>\n",
              "      <td>0.283330</td>\n",
              "      <td>0.011609</td>\n",
              "    </tr>\n",
              "    <tr>\n",
              "      <th>idle_max</th>\n",
              "      <td>-0.108185</td>\n",
              "      <td>0.779527</td>\n",
              "      <td>0.001906</td>\n",
              "      <td>0.001456</td>\n",
              "      <td>0.026079</td>\n",
              "      <td>0.000797</td>\n",
              "      <td>0.199559</td>\n",
              "      <td>-0.073419</td>\n",
              "      <td>0.148402</td>\n",
              "      <td>0.203304</td>\n",
              "      <td>...</td>\n",
              "      <td>0.000929</td>\n",
              "      <td>-0.001407</td>\n",
              "      <td>0.132700</td>\n",
              "      <td>0.055300</td>\n",
              "      <td>0.102816</td>\n",
              "      <td>0.122651</td>\n",
              "      <td>0.990387</td>\n",
              "      <td>0.283330</td>\n",
              "      <td>1.000000</td>\n",
              "      <td>0.961812</td>\n",
              "    </tr>\n",
              "    <tr>\n",
              "      <th>idle_min</th>\n",
              "      <td>-0.114614</td>\n",
              "      <td>0.738328</td>\n",
              "      <td>0.001670</td>\n",
              "      <td>0.001330</td>\n",
              "      <td>0.018634</td>\n",
              "      <td>0.000789</td>\n",
              "      <td>0.156973</td>\n",
              "      <td>-0.067435</td>\n",
              "      <td>0.104155</td>\n",
              "      <td>0.157677</td>\n",
              "      <td>...</td>\n",
              "      <td>0.000713</td>\n",
              "      <td>-0.000344</td>\n",
              "      <td>0.109878</td>\n",
              "      <td>0.023540</td>\n",
              "      <td>0.077261</td>\n",
              "      <td>0.112880</td>\n",
              "      <td>0.990215</td>\n",
              "      <td>0.011609</td>\n",
              "      <td>0.961812</td>\n",
              "      <td>1.000000</td>\n",
              "    </tr>\n",
              "  </tbody>\n",
              "</table>\n",
              "<p>78 rows × 78 columns</p>\n",
              "</div>\n",
              "    <div class=\"colab-df-buttons\">\n",
              "\n",
              "  <div class=\"colab-df-container\">\n",
              "    <button class=\"colab-df-convert\" onclick=\"convertToInteractive('df-3d82a1b0-9981-499d-8e66-e7d9b5885542')\"\n",
              "            title=\"Convert this dataframe to an interactive table.\"\n",
              "            style=\"display:none;\">\n",
              "\n",
              "  <svg xmlns=\"http://www.w3.org/2000/svg\" height=\"24px\" viewBox=\"0 -960 960 960\">\n",
              "    <path d=\"M120-120v-720h720v720H120Zm60-500h600v-160H180v160Zm220 220h160v-160H400v160Zm0 220h160v-160H400v160ZM180-400h160v-160H180v160Zm440 0h160v-160H620v160ZM180-180h160v-160H180v160Zm440 0h160v-160H620v160Z\"/>\n",
              "  </svg>\n",
              "    </button>\n",
              "\n",
              "  <style>\n",
              "    .colab-df-container {\n",
              "      display:flex;\n",
              "      gap: 12px;\n",
              "    }\n",
              "\n",
              "    .colab-df-convert {\n",
              "      background-color: #E8F0FE;\n",
              "      border: none;\n",
              "      border-radius: 50%;\n",
              "      cursor: pointer;\n",
              "      display: none;\n",
              "      fill: #1967D2;\n",
              "      height: 32px;\n",
              "      padding: 0 0 0 0;\n",
              "      width: 32px;\n",
              "    }\n",
              "\n",
              "    .colab-df-convert:hover {\n",
              "      background-color: #E2EBFA;\n",
              "      box-shadow: 0px 1px 2px rgba(60, 64, 67, 0.3), 0px 1px 3px 1px rgba(60, 64, 67, 0.15);\n",
              "      fill: #174EA6;\n",
              "    }\n",
              "\n",
              "    .colab-df-buttons div {\n",
              "      margin-bottom: 4px;\n",
              "    }\n",
              "\n",
              "    [theme=dark] .colab-df-convert {\n",
              "      background-color: #3B4455;\n",
              "      fill: #D2E3FC;\n",
              "    }\n",
              "\n",
              "    [theme=dark] .colab-df-convert:hover {\n",
              "      background-color: #434B5C;\n",
              "      box-shadow: 0px 1px 3px 1px rgba(0, 0, 0, 0.15);\n",
              "      filter: drop-shadow(0px 1px 2px rgba(0, 0, 0, 0.3));\n",
              "      fill: #FFFFFF;\n",
              "    }\n",
              "  </style>\n",
              "\n",
              "    <script>\n",
              "      const buttonEl =\n",
              "        document.querySelector('#df-3d82a1b0-9981-499d-8e66-e7d9b5885542 button.colab-df-convert');\n",
              "      buttonEl.style.display =\n",
              "        google.colab.kernel.accessAllowed ? 'block' : 'none';\n",
              "\n",
              "      async function convertToInteractive(key) {\n",
              "        const element = document.querySelector('#df-3d82a1b0-9981-499d-8e66-e7d9b5885542');\n",
              "        const dataTable =\n",
              "          await google.colab.kernel.invokeFunction('convertToInteractive',\n",
              "                                                    [key], {});\n",
              "        if (!dataTable) return;\n",
              "\n",
              "        const docLinkHtml = 'Like what you see? Visit the ' +\n",
              "          '<a target=\"_blank\" href=https://colab.research.google.com/notebooks/data_table.ipynb>data table notebook</a>'\n",
              "          + ' to learn more about interactive tables.';\n",
              "        element.innerHTML = '';\n",
              "        dataTable['output_type'] = 'display_data';\n",
              "        await google.colab.output.renderOutput(dataTable, element);\n",
              "        const docLink = document.createElement('div');\n",
              "        docLink.innerHTML = docLinkHtml;\n",
              "        element.appendChild(docLink);\n",
              "      }\n",
              "    </script>\n",
              "  </div>\n",
              "\n",
              "\n",
              "<div id=\"df-28755f74-4572-459a-ad75-f3a690634e5c\">\n",
              "  <button class=\"colab-df-quickchart\" onclick=\"quickchart('df-28755f74-4572-459a-ad75-f3a690634e5c')\"\n",
              "            title=\"Suggest charts\"\n",
              "            style=\"display:none;\">\n",
              "\n",
              "<svg xmlns=\"http://www.w3.org/2000/svg\" height=\"24px\"viewBox=\"0 0 24 24\"\n",
              "     width=\"24px\">\n",
              "    <g>\n",
              "        <path d=\"M19 3H5c-1.1 0-2 .9-2 2v14c0 1.1.9 2 2 2h14c1.1 0 2-.9 2-2V5c0-1.1-.9-2-2-2zM9 17H7v-7h2v7zm4 0h-2V7h2v10zm4 0h-2v-4h2v4z\"/>\n",
              "    </g>\n",
              "</svg>\n",
              "  </button>\n",
              "\n",
              "<style>\n",
              "  .colab-df-quickchart {\n",
              "      --bg-color: #E8F0FE;\n",
              "      --fill-color: #1967D2;\n",
              "      --hover-bg-color: #E2EBFA;\n",
              "      --hover-fill-color: #174EA6;\n",
              "      --disabled-fill-color: #AAA;\n",
              "      --disabled-bg-color: #DDD;\n",
              "  }\n",
              "\n",
              "  [theme=dark] .colab-df-quickchart {\n",
              "      --bg-color: #3B4455;\n",
              "      --fill-color: #D2E3FC;\n",
              "      --hover-bg-color: #434B5C;\n",
              "      --hover-fill-color: #FFFFFF;\n",
              "      --disabled-bg-color: #3B4455;\n",
              "      --disabled-fill-color: #666;\n",
              "  }\n",
              "\n",
              "  .colab-df-quickchart {\n",
              "    background-color: var(--bg-color);\n",
              "    border: none;\n",
              "    border-radius: 50%;\n",
              "    cursor: pointer;\n",
              "    display: none;\n",
              "    fill: var(--fill-color);\n",
              "    height: 32px;\n",
              "    padding: 0;\n",
              "    width: 32px;\n",
              "  }\n",
              "\n",
              "  .colab-df-quickchart:hover {\n",
              "    background-color: var(--hover-bg-color);\n",
              "    box-shadow: 0 1px 2px rgba(60, 64, 67, 0.3), 0 1px 3px 1px rgba(60, 64, 67, 0.15);\n",
              "    fill: var(--button-hover-fill-color);\n",
              "  }\n",
              "\n",
              "  .colab-df-quickchart-complete:disabled,\n",
              "  .colab-df-quickchart-complete:disabled:hover {\n",
              "    background-color: var(--disabled-bg-color);\n",
              "    fill: var(--disabled-fill-color);\n",
              "    box-shadow: none;\n",
              "  }\n",
              "\n",
              "  .colab-df-spinner {\n",
              "    border: 2px solid var(--fill-color);\n",
              "    border-color: transparent;\n",
              "    border-bottom-color: var(--fill-color);\n",
              "    animation:\n",
              "      spin 1s steps(1) infinite;\n",
              "  }\n",
              "\n",
              "  @keyframes spin {\n",
              "    0% {\n",
              "      border-color: transparent;\n",
              "      border-bottom-color: var(--fill-color);\n",
              "      border-left-color: var(--fill-color);\n",
              "    }\n",
              "    20% {\n",
              "      border-color: transparent;\n",
              "      border-left-color: var(--fill-color);\n",
              "      border-top-color: var(--fill-color);\n",
              "    }\n",
              "    30% {\n",
              "      border-color: transparent;\n",
              "      border-left-color: var(--fill-color);\n",
              "      border-top-color: var(--fill-color);\n",
              "      border-right-color: var(--fill-color);\n",
              "    }\n",
              "    40% {\n",
              "      border-color: transparent;\n",
              "      border-right-color: var(--fill-color);\n",
              "      border-top-color: var(--fill-color);\n",
              "    }\n",
              "    60% {\n",
              "      border-color: transparent;\n",
              "      border-right-color: var(--fill-color);\n",
              "    }\n",
              "    80% {\n",
              "      border-color: transparent;\n",
              "      border-right-color: var(--fill-color);\n",
              "      border-bottom-color: var(--fill-color);\n",
              "    }\n",
              "    90% {\n",
              "      border-color: transparent;\n",
              "      border-bottom-color: var(--fill-color);\n",
              "    }\n",
              "  }\n",
              "</style>\n",
              "\n",
              "  <script>\n",
              "    async function quickchart(key) {\n",
              "      const quickchartButtonEl =\n",
              "        document.querySelector('#' + key + ' button');\n",
              "      quickchartButtonEl.disabled = true;  // To prevent multiple clicks.\n",
              "      quickchartButtonEl.classList.add('colab-df-spinner');\n",
              "      try {\n",
              "        const charts = await google.colab.kernel.invokeFunction(\n",
              "            'suggestCharts', [key], {});\n",
              "      } catch (error) {\n",
              "        console.error('Error during call to suggestCharts:', error);\n",
              "      }\n",
              "      quickchartButtonEl.classList.remove('colab-df-spinner');\n",
              "      quickchartButtonEl.classList.add('colab-df-quickchart-complete');\n",
              "    }\n",
              "    (() => {\n",
              "      let quickchartButtonEl =\n",
              "        document.querySelector('#df-28755f74-4572-459a-ad75-f3a690634e5c button');\n",
              "      quickchartButtonEl.style.display =\n",
              "        google.colab.kernel.accessAllowed ? 'block' : 'none';\n",
              "    })();\n",
              "  </script>\n",
              "</div>\n",
              "\n",
              "    </div>\n",
              "  </div>\n"
            ],
            "text/plain": [
              "                             destination_port  flow_duration  \\\n",
              "destination_port                     1.000000      -0.151680   \n",
              "flow_duration                       -0.151680       1.000000   \n",
              "total_fwd_packets                   -0.004236       0.020857   \n",
              "total_backward_packets              -0.003947       0.019670   \n",
              "total_length_of_fwd_packets          0.011145       0.065456   \n",
              "...                                       ...            ...   \n",
              "active_min                          -0.023194       0.121171   \n",
              "idle_mean                           -0.112585       0.768034   \n",
              "idle_std                             0.010399       0.243154   \n",
              "idle_max                            -0.108185       0.779527   \n",
              "idle_min                            -0.114614       0.738328   \n",
              "\n",
              "                             total_fwd_packets  total_backward_packets  \\\n",
              "destination_port                     -0.004236               -0.003947   \n",
              "flow_duration                         0.020857                0.019670   \n",
              "total_fwd_packets                     1.000000                0.999070   \n",
              "total_backward_packets                0.999070                1.000000   \n",
              "total_length_of_fwd_packets           0.365508                0.359451   \n",
              "...                                        ...                     ...   \n",
              "active_min                            0.041283                0.041278   \n",
              "idle_mean                             0.001820                0.001425   \n",
              "idle_std                              0.000809                0.000492   \n",
              "idle_max                              0.001906                0.001456   \n",
              "idle_min                              0.001670                0.001330   \n",
              "\n",
              "                             total_length_of_fwd_packets  \\\n",
              "destination_port                                0.011145   \n",
              "flow_duration                                   0.065456   \n",
              "total_fwd_packets                               0.365508   \n",
              "total_backward_packets                          0.359451   \n",
              "total_length_of_fwd_packets                     1.000000   \n",
              "...                                                  ...   \n",
              "active_min                                      0.068325   \n",
              "idle_mean                                       0.022660   \n",
              "idle_std                                        0.027064   \n",
              "idle_max                                        0.026079   \n",
              "idle_min                                        0.018634   \n",
              "\n",
              "                             total_length_of_bwd_packets  \\\n",
              "destination_port                               -0.003082   \n",
              "flow_duration                                   0.016186   \n",
              "total_fwd_packets                               0.996993   \n",
              "total_backward_packets                          0.994429   \n",
              "total_length_of_fwd_packets                     0.353762   \n",
              "...                                                  ...   \n",
              "active_min                                      0.039069   \n",
              "idle_mean                                       0.000809   \n",
              "idle_std                                        0.000105   \n",
              "idle_max                                        0.000797   \n",
              "idle_min                                        0.000789   \n",
              "\n",
              "                             fwd_packet_length_max  fwd_packet_length_min  \\\n",
              "destination_port                          0.097926              -0.045388   \n",
              "flow_duration                             0.273308              -0.105230   \n",
              "total_fwd_packets                         0.009358              -0.002989   \n",
              "total_backward_packets                    0.009039              -0.002600   \n",
              "total_length_of_fwd_packets               0.197030              -0.000275   \n",
              "...                                            ...                    ...   \n",
              "active_min                                0.105641              -0.025912   \n",
              "idle_mean                                 0.181135              -0.071304   \n",
              "idle_std                                  0.178091              -0.029951   \n",
              "idle_max                                  0.199559              -0.073419   \n",
              "idle_min                                  0.156973              -0.067435   \n",
              "\n",
              "                             fwd_packet_length_mean  fwd_packet_length_std  \\\n",
              "destination_port                           0.140220               0.128861   \n",
              "flow_duration                              0.143689               0.234437   \n",
              "total_fwd_packets                          0.000032               0.001403   \n",
              "total_backward_packets                    -0.000333               0.001026   \n",
              "total_length_of_fwd_packets                0.185262               0.159787   \n",
              "...                                             ...                    ...   \n",
              "active_min                                 0.081170               0.094164   \n",
              "idle_mean                                  0.127959               0.183139   \n",
              "idle_std                                   0.178462               0.191278   \n",
              "idle_max                                   0.148402               0.203304   \n",
              "idle_min                                   0.104155               0.157677   \n",
              "\n",
              "                             ...  act_data_pkt_fwd  min_seg_size_forward  \\\n",
              "destination_port             ...         -0.003226              0.000897   \n",
              "flow_duration                ...          0.015942             -0.001357   \n",
              "total_fwd_packets            ...          0.887387             -0.000184   \n",
              "total_backward_packets       ...          0.882566              0.000018   \n",
              "total_length_of_fwd_packets  ...          0.407448             -0.001209   \n",
              "...                          ...               ...                   ...   \n",
              "active_min                   ...          0.031394             -0.006834   \n",
              "idle_mean                    ...          0.000837             -0.000876   \n",
              "idle_std                     ...          0.000721             -0.003720   \n",
              "idle_max                     ...          0.000929             -0.001407   \n",
              "idle_min                     ...          0.000713             -0.000344   \n",
              "\n",
              "                             active_mean  active_std  active_max  active_min  \\\n",
              "destination_port               -0.035562   -0.043717   -0.051859   -0.023194   \n",
              "flow_duration                   0.189299    0.241060    0.294034    0.121171   \n",
              "total_fwd_packets               0.039937    0.008329    0.030459    0.041283   \n",
              "total_backward_packets          0.038963    0.006437    0.028602    0.041278   \n",
              "total_length_of_fwd_packets     0.101084    0.103326    0.126493    0.068325   \n",
              "...                                  ...         ...         ...         ...   \n",
              "active_min                      0.905862    0.033874    0.584503    1.000000   \n",
              "idle_mean                       0.120171    0.036551    0.088904    0.118133   \n",
              "idle_std                        0.070586    0.081435    0.070002    0.038302   \n",
              "idle_max                        0.132700    0.055300    0.102816    0.122651   \n",
              "idle_min                        0.109878    0.023540    0.077261    0.112880   \n",
              "\n",
              "                             idle_mean  idle_std  idle_max  idle_min  \n",
              "destination_port             -0.112585  0.010399 -0.108185 -0.114614  \n",
              "flow_duration                 0.768034  0.243154  0.779527  0.738328  \n",
              "total_fwd_packets             0.001820  0.000809  0.001906  0.001670  \n",
              "total_backward_packets        0.001425  0.000492  0.001456  0.001330  \n",
              "total_length_of_fwd_packets   0.022660  0.027064  0.026079  0.018634  \n",
              "...                                ...       ...       ...       ...  \n",
              "active_min                    0.118133  0.038302  0.122651  0.112880  \n",
              "idle_mean                     1.000000  0.150248  0.990387  0.990215  \n",
              "idle_std                      0.150248  1.000000  0.283330  0.011609  \n",
              "idle_max                      0.990387  0.283330  1.000000  0.961812  \n",
              "idle_min                      0.990215  0.011609  0.961812  1.000000  \n",
              "\n",
              "[78 rows x 78 columns]"
            ]
          },
          "execution_count": 13,
          "metadata": {},
          "output_type": "execute_result"
        }
      ],
      "source": [
        "df_concat.corr()"
      ]
    },
    {
      "cell_type": "code",
      "execution_count": 15,
      "metadata": {
        "colab": {
          "base_uri": "https://localhost:8080/"
        },
        "id": "9xAw78sqf-dS",
        "outputId": "64e67ea1-a428-4d11-f19b-a9249365a58e"
      },
      "outputs": [
        {
          "name": "stdout",
          "output_type": "stream",
          "text": [
            "dataset shape (2830743, 79)\n",
            "zero variance columns ['bwd_psh_flags', 'bwd_urg_flags', 'fwd_avg_bytes/bulk', 'fwd_avg_packets/bulk', 'fwd_avg_bulk_rate', 'bwd_avg_bytes/bulk', 'bwd_avg_packets/bulk', 'bwd_avg_bulk_rate'] dropped\n",
            "shape after removing zero variance columns: (2830743, 71)\n",
            "2867 rows dropped\n",
            "shape after removing nan: (2827876, 71)\n",
            "shape after dropping duplicates: (2520798, 71)\n",
            "columns which have identical values [('total_fwd_packets', 'subflow_fwd_packets'), ('total_backward_packets', 'subflow_bwd_packets'), ('fwd_psh_flags', 'syn_flag_count'), ('fwd_urg_flags', 'cwe_flag_count'), ('fwd_header_length', 'fwd_header_length.1')] dropped\n",
            "shape after removing identical value columns: (2520798, 66)\n"
          ]
        }
      ],
      "source": [
        "def clean_df(df):\n",
        "    # Remove the space before each feature names\n",
        "    df.columns = df.columns.str.strip()\n",
        "    print('dataset shape', df.shape)\n",
        "\n",
        "    # This set of feature should have >= 0 values\n",
        "    num = df._get_numeric_data()\n",
        "    num[num < 0] = 0\n",
        "\n",
        "    zero_variance_cols = []\n",
        "    for col in df.columns:\n",
        "        if len(df[col].unique()) == 1:\n",
        "            zero_variance_cols.append(col)\n",
        "    df.drop(zero_variance_cols, axis = 1, inplace = True)\n",
        "    print('zero variance columns', zero_variance_cols, 'dropped')\n",
        "    print('shape after removing zero variance columns:', df.shape)\n",
        "\n",
        "    df.replace([np.inf, -np.inf], np.nan, inplace = True)\n",
        "    print(df.isna().any(axis = 1).sum(), 'rows dropped')\n",
        "    df.dropna(inplace = True)\n",
        "    print('shape after removing nan:', df.shape)\n",
        "\n",
        "    # Drop duplicate rows\n",
        "    df.drop_duplicates(inplace = True)\n",
        "    print('shape after dropping duplicates:', df.shape)\n",
        "\n",
        "    column_pairs = [(i, j) for i, j in combinations(df, 2) if df[i].equals(df[j])]\n",
        "    ide_cols = []\n",
        "    for column_pair in column_pairs:\n",
        "        ide_cols.append(column_pair[1])\n",
        "    df.drop(ide_cols, axis = 1, inplace = True)\n",
        "    print('columns which have identical values', column_pairs, 'dropped')\n",
        "    print('shape after removing identical value columns:', df.shape)\n",
        "    return df\n",
        "df_concat = clean_df(df_concat)"
      ]
    },
    {
      "cell_type": "code",
      "execution_count": 16,
      "metadata": {
        "colab": {
          "base_uri": "https://localhost:8080/"
        },
        "id": "zlT0JSH1gJuG",
        "outputId": "e163cf09-2cff-43fa-a571-e21eb1cbcca9"
      },
      "outputs": [
        {
          "name": "stdout",
          "output_type": "stream",
          "text": [
            "<class 'pandas.core.frame.DataFrame'>\n",
            "Int64Index: 2520798 entries, 0 to 2830742\n",
            "Data columns (total 66 columns):\n",
            " #   Column                       Dtype  \n",
            "---  ------                       -----  \n",
            " 0   destination_port             int64  \n",
            " 1   flow_duration                int64  \n",
            " 2   total_fwd_packets            int64  \n",
            " 3   total_backward_packets       int64  \n",
            " 4   total_length_of_fwd_packets  int64  \n",
            " 5   total_length_of_bwd_packets  int64  \n",
            " 6   fwd_packet_length_max        int64  \n",
            " 7   fwd_packet_length_min        int64  \n",
            " 8   fwd_packet_length_mean       float64\n",
            " 9   fwd_packet_length_std        float64\n",
            " 10  bwd_packet_length_max        int64  \n",
            " 11  bwd_packet_length_min        int64  \n",
            " 12  bwd_packet_length_mean       float64\n",
            " 13  bwd_packet_length_std        float64\n",
            " 14  flow_bytes/s                 float64\n",
            " 15  flow_packets/s               float64\n",
            " 16  flow_iat_mean                float64\n",
            " 17  flow_iat_std                 float64\n",
            " 18  flow_iat_max                 int64  \n",
            " 19  flow_iat_min                 int64  \n",
            " 20  fwd_iat_total                int64  \n",
            " 21  fwd_iat_mean                 float64\n",
            " 22  fwd_iat_std                  float64\n",
            " 23  fwd_iat_max                  int64  \n",
            " 24  fwd_iat_min                  int64  \n",
            " 25  bwd_iat_total                int64  \n",
            " 26  bwd_iat_mean                 float64\n",
            " 27  bwd_iat_std                  float64\n",
            " 28  bwd_iat_max                  int64  \n",
            " 29  bwd_iat_min                  int64  \n",
            " 30  fwd_psh_flags                int64  \n",
            " 31  fwd_urg_flags                int64  \n",
            " 32  fwd_header_length            int64  \n",
            " 33  bwd_header_length            int64  \n",
            " 34  fwd_packets/s                float64\n",
            " 35  bwd_packets/s                float64\n",
            " 36  min_packet_length            int64  \n",
            " 37  max_packet_length            int64  \n",
            " 38  packet_length_mean           float64\n",
            " 39  packet_length_std            float64\n",
            " 40  packet_length_variance       float64\n",
            " 41  fin_flag_count               int64  \n",
            " 42  rst_flag_count               int64  \n",
            " 43  psh_flag_count               int64  \n",
            " 44  ack_flag_count               int64  \n",
            " 45  urg_flag_count               int64  \n",
            " 46  ece_flag_count               int64  \n",
            " 47  down/up_ratio                int64  \n",
            " 48  average_packet_size          float64\n",
            " 49  avg_fwd_segment_size         float64\n",
            " 50  avg_bwd_segment_size         float64\n",
            " 51  subflow_fwd_bytes            int64  \n",
            " 52  subflow_bwd_bytes            int64  \n",
            " 53  init_win_bytes_forward       int64  \n",
            " 54  init_win_bytes_backward      int64  \n",
            " 55  act_data_pkt_fwd             int64  \n",
            " 56  min_seg_size_forward         int64  \n",
            " 57  active_mean                  float64\n",
            " 58  active_std                   float64\n",
            " 59  active_max                   int64  \n",
            " 60  active_min                   int64  \n",
            " 61  idle_mean                    float64\n",
            " 62  idle_std                     float64\n",
            " 63  idle_max                     int64  \n",
            " 64  idle_min                     int64  \n",
            " 65  label                        object \n",
            "dtypes: float64(24), int64(41), object(1)\n",
            "memory usage: 1.3+ GB\n"
          ]
        }
      ],
      "source": [
        "df_concat.info()"
      ]
    },
    {
      "cell_type": "code",
      "execution_count": 17,
      "metadata": {
        "id": "FfIKv7VVIGB-"
      },
      "outputs": [],
      "source": [
        "unique_vals = df_concat['label'].unique()\n",
        "df_concat['label'].replace(to_replace=unique_vals,\n",
        "           value= list(range(len(unique_vals))),\n",
        "           inplace=True)"
      ]
    },
    {
      "cell_type": "code",
      "execution_count": 18,
      "metadata": {
        "id": "1md_-3AgJJhF"
      },
      "outputs": [],
      "source": [
        "mask = df_concat['label'] != 0\n",
        "df_concat.loc[mask, 'label'] = 1"
      ]
    },
    {
      "cell_type": "code",
      "execution_count": 19,
      "metadata": {
        "colab": {
          "base_uri": "https://localhost:8080/",
          "height": 350
        },
        "id": "_Yz70MpdglAU",
        "outputId": "ee9dec58-bea3-4268-cf68-f8fd41160886"
      },
      "outputs": [
        {
          "data": {
            "application/vnd.google.colaboratory.intrinsic+json": {
              "type": "dataframe"
            },
            "text/html": [
              "\n",
              "  <div id=\"df-bf649a93-19ea-4c0f-ba1f-d49767161bf1\" class=\"colab-df-container\">\n",
              "    <div>\n",
              "<style scoped>\n",
              "    .dataframe tbody tr th:only-of-type {\n",
              "        vertical-align: middle;\n",
              "    }\n",
              "\n",
              "    .dataframe tbody tr th {\n",
              "        vertical-align: top;\n",
              "    }\n",
              "\n",
              "    .dataframe thead th {\n",
              "        text-align: right;\n",
              "    }\n",
              "</style>\n",
              "<table border=\"1\" class=\"dataframe\">\n",
              "  <thead>\n",
              "    <tr style=\"text-align: right;\">\n",
              "      <th></th>\n",
              "      <th>destination_port</th>\n",
              "      <th>flow_duration</th>\n",
              "      <th>total_fwd_packets</th>\n",
              "      <th>total_backward_packets</th>\n",
              "      <th>total_length_of_fwd_packets</th>\n",
              "      <th>total_length_of_bwd_packets</th>\n",
              "      <th>fwd_packet_length_max</th>\n",
              "      <th>fwd_packet_length_min</th>\n",
              "      <th>fwd_packet_length_mean</th>\n",
              "      <th>fwd_packet_length_std</th>\n",
              "      <th>...</th>\n",
              "      <th>min_seg_size_forward</th>\n",
              "      <th>active_mean</th>\n",
              "      <th>active_std</th>\n",
              "      <th>active_max</th>\n",
              "      <th>active_min</th>\n",
              "      <th>idle_mean</th>\n",
              "      <th>idle_std</th>\n",
              "      <th>idle_max</th>\n",
              "      <th>idle_min</th>\n",
              "      <th>label</th>\n",
              "    </tr>\n",
              "  </thead>\n",
              "  <tbody>\n",
              "    <tr>\n",
              "      <th>count</th>\n",
              "      <td>2.520798e+06</td>\n",
              "      <td>2.520798e+06</td>\n",
              "      <td>2.520798e+06</td>\n",
              "      <td>2.520798e+06</td>\n",
              "      <td>2.520798e+06</td>\n",
              "      <td>2.520798e+06</td>\n",
              "      <td>2.520798e+06</td>\n",
              "      <td>2.520798e+06</td>\n",
              "      <td>2.520798e+06</td>\n",
              "      <td>2.520798e+06</td>\n",
              "      <td>...</td>\n",
              "      <td>2.520798e+06</td>\n",
              "      <td>2.520798e+06</td>\n",
              "      <td>2.520798e+06</td>\n",
              "      <td>2.520798e+06</td>\n",
              "      <td>2.520798e+06</td>\n",
              "      <td>2.520798e+06</td>\n",
              "      <td>2.520798e+06</td>\n",
              "      <td>2.520798e+06</td>\n",
              "      <td>2.520798e+06</td>\n",
              "      <td>2.520798e+06</td>\n",
              "    </tr>\n",
              "    <tr>\n",
              "      <th>mean</th>\n",
              "      <td>8.690590e+03</td>\n",
              "      <td>1.659161e+07</td>\n",
              "      <td>1.028174e+01</td>\n",
              "      <td>1.157280e+01</td>\n",
              "      <td>6.119477e+02</td>\n",
              "      <td>1.814440e+04</td>\n",
              "      <td>2.312292e+02</td>\n",
              "      <td>1.920349e+01</td>\n",
              "      <td>6.350497e+01</td>\n",
              "      <td>7.732347e+01</td>\n",
              "      <td>...</td>\n",
              "      <td>2.588550e+01</td>\n",
              "      <td>9.157847e+04</td>\n",
              "      <td>4.619177e+04</td>\n",
              "      <td>1.720171e+05</td>\n",
              "      <td>6.546359e+04</td>\n",
              "      <td>9.337367e+06</td>\n",
              "      <td>5.657941e+05</td>\n",
              "      <td>9.763770e+06</td>\n",
              "      <td>8.892671e+06</td>\n",
              "      <td>1.688914e-01</td>\n",
              "    </tr>\n",
              "    <tr>\n",
              "      <th>std</th>\n",
              "      <td>1.901280e+04</td>\n",
              "      <td>3.523276e+07</td>\n",
              "      <td>7.944201e+02</td>\n",
              "      <td>1.056922e+03</td>\n",
              "      <td>1.058827e+04</td>\n",
              "      <td>2.398177e+06</td>\n",
              "      <td>7.563755e+02</td>\n",
              "      <td>6.079834e+01</td>\n",
              "      <td>1.955526e+02</td>\n",
              "      <td>2.968814e+02</td>\n",
              "      <td>...</td>\n",
              "      <td>6.525341e+00</td>\n",
              "      <td>6.866503e+05</td>\n",
              "      <td>4.165844e+05</td>\n",
              "      <td>1.085571e+06</td>\n",
              "      <td>6.111585e+05</td>\n",
              "      <td>2.484818e+07</td>\n",
              "      <td>4.874169e+06</td>\n",
              "      <td>2.561746e+07</td>\n",
              "      <td>2.458143e+07</td>\n",
              "      <td>3.746560e-01</td>\n",
              "    </tr>\n",
              "    <tr>\n",
              "      <th>min</th>\n",
              "      <td>0.000000e+00</td>\n",
              "      <td>0.000000e+00</td>\n",
              "      <td>1.000000e+00</td>\n",
              "      <td>0.000000e+00</td>\n",
              "      <td>0.000000e+00</td>\n",
              "      <td>0.000000e+00</td>\n",
              "      <td>0.000000e+00</td>\n",
              "      <td>0.000000e+00</td>\n",
              "      <td>0.000000e+00</td>\n",
              "      <td>0.000000e+00</td>\n",
              "      <td>...</td>\n",
              "      <td>0.000000e+00</td>\n",
              "      <td>0.000000e+00</td>\n",
              "      <td>0.000000e+00</td>\n",
              "      <td>0.000000e+00</td>\n",
              "      <td>0.000000e+00</td>\n",
              "      <td>0.000000e+00</td>\n",
              "      <td>0.000000e+00</td>\n",
              "      <td>0.000000e+00</td>\n",
              "      <td>0.000000e+00</td>\n",
              "      <td>0.000000e+00</td>\n",
              "    </tr>\n",
              "    <tr>\n",
              "      <th>25%</th>\n",
              "      <td>5.300000e+01</td>\n",
              "      <td>2.080000e+02</td>\n",
              "      <td>2.000000e+00</td>\n",
              "      <td>1.000000e+00</td>\n",
              "      <td>1.200000e+01</td>\n",
              "      <td>6.000000e+00</td>\n",
              "      <td>6.000000e+00</td>\n",
              "      <td>0.000000e+00</td>\n",
              "      <td>6.000000e+00</td>\n",
              "      <td>0.000000e+00</td>\n",
              "      <td>...</td>\n",
              "      <td>2.000000e+01</td>\n",
              "      <td>0.000000e+00</td>\n",
              "      <td>0.000000e+00</td>\n",
              "      <td>0.000000e+00</td>\n",
              "      <td>0.000000e+00</td>\n",
              "      <td>0.000000e+00</td>\n",
              "      <td>0.000000e+00</td>\n",
              "      <td>0.000000e+00</td>\n",
              "      <td>0.000000e+00</td>\n",
              "      <td>0.000000e+00</td>\n",
              "    </tr>\n",
              "    <tr>\n",
              "      <th>50%</th>\n",
              "      <td>8.000000e+01</td>\n",
              "      <td>5.062200e+04</td>\n",
              "      <td>2.000000e+00</td>\n",
              "      <td>2.000000e+00</td>\n",
              "      <td>6.600000e+01</td>\n",
              "      <td>1.560000e+02</td>\n",
              "      <td>4.000000e+01</td>\n",
              "      <td>2.000000e+00</td>\n",
              "      <td>3.625000e+01</td>\n",
              "      <td>0.000000e+00</td>\n",
              "      <td>...</td>\n",
              "      <td>2.000000e+01</td>\n",
              "      <td>0.000000e+00</td>\n",
              "      <td>0.000000e+00</td>\n",
              "      <td>0.000000e+00</td>\n",
              "      <td>0.000000e+00</td>\n",
              "      <td>0.000000e+00</td>\n",
              "      <td>0.000000e+00</td>\n",
              "      <td>0.000000e+00</td>\n",
              "      <td>0.000000e+00</td>\n",
              "      <td>0.000000e+00</td>\n",
              "    </tr>\n",
              "    <tr>\n",
              "      <th>75%</th>\n",
              "      <td>4.430000e+02</td>\n",
              "      <td>5.333340e+06</td>\n",
              "      <td>6.000000e+00</td>\n",
              "      <td>5.000000e+00</td>\n",
              "      <td>3.320000e+02</td>\n",
              "      <td>9.970000e+02</td>\n",
              "      <td>2.020000e+02</td>\n",
              "      <td>3.700000e+01</td>\n",
              "      <td>5.200000e+01</td>\n",
              "      <td>7.419280e+01</td>\n",
              "      <td>...</td>\n",
              "      <td>3.200000e+01</td>\n",
              "      <td>0.000000e+00</td>\n",
              "      <td>0.000000e+00</td>\n",
              "      <td>0.000000e+00</td>\n",
              "      <td>0.000000e+00</td>\n",
              "      <td>0.000000e+00</td>\n",
              "      <td>0.000000e+00</td>\n",
              "      <td>0.000000e+00</td>\n",
              "      <td>0.000000e+00</td>\n",
              "      <td>0.000000e+00</td>\n",
              "    </tr>\n",
              "    <tr>\n",
              "      <th>max</th>\n",
              "      <td>6.553500e+04</td>\n",
              "      <td>1.200000e+08</td>\n",
              "      <td>2.197590e+05</td>\n",
              "      <td>2.919220e+05</td>\n",
              "      <td>1.290000e+07</td>\n",
              "      <td>6.554530e+08</td>\n",
              "      <td>2.482000e+04</td>\n",
              "      <td>2.325000e+03</td>\n",
              "      <td>5.940857e+03</td>\n",
              "      <td>7.125597e+03</td>\n",
              "      <td>...</td>\n",
              "      <td>1.380000e+02</td>\n",
              "      <td>1.100000e+08</td>\n",
              "      <td>7.420000e+07</td>\n",
              "      <td>1.100000e+08</td>\n",
              "      <td>1.100000e+08</td>\n",
              "      <td>1.200000e+08</td>\n",
              "      <td>7.690000e+07</td>\n",
              "      <td>1.200000e+08</td>\n",
              "      <td>1.200000e+08</td>\n",
              "      <td>1.000000e+00</td>\n",
              "    </tr>\n",
              "  </tbody>\n",
              "</table>\n",
              "<p>8 rows × 66 columns</p>\n",
              "</div>\n",
              "    <div class=\"colab-df-buttons\">\n",
              "\n",
              "  <div class=\"colab-df-container\">\n",
              "    <button class=\"colab-df-convert\" onclick=\"convertToInteractive('df-bf649a93-19ea-4c0f-ba1f-d49767161bf1')\"\n",
              "            title=\"Convert this dataframe to an interactive table.\"\n",
              "            style=\"display:none;\">\n",
              "\n",
              "  <svg xmlns=\"http://www.w3.org/2000/svg\" height=\"24px\" viewBox=\"0 -960 960 960\">\n",
              "    <path d=\"M120-120v-720h720v720H120Zm60-500h600v-160H180v160Zm220 220h160v-160H400v160Zm0 220h160v-160H400v160ZM180-400h160v-160H180v160Zm440 0h160v-160H620v160ZM180-180h160v-160H180v160Zm440 0h160v-160H620v160Z\"/>\n",
              "  </svg>\n",
              "    </button>\n",
              "\n",
              "  <style>\n",
              "    .colab-df-container {\n",
              "      display:flex;\n",
              "      gap: 12px;\n",
              "    }\n",
              "\n",
              "    .colab-df-convert {\n",
              "      background-color: #E8F0FE;\n",
              "      border: none;\n",
              "      border-radius: 50%;\n",
              "      cursor: pointer;\n",
              "      display: none;\n",
              "      fill: #1967D2;\n",
              "      height: 32px;\n",
              "      padding: 0 0 0 0;\n",
              "      width: 32px;\n",
              "    }\n",
              "\n",
              "    .colab-df-convert:hover {\n",
              "      background-color: #E2EBFA;\n",
              "      box-shadow: 0px 1px 2px rgba(60, 64, 67, 0.3), 0px 1px 3px 1px rgba(60, 64, 67, 0.15);\n",
              "      fill: #174EA6;\n",
              "    }\n",
              "\n",
              "    .colab-df-buttons div {\n",
              "      margin-bottom: 4px;\n",
              "    }\n",
              "\n",
              "    [theme=dark] .colab-df-convert {\n",
              "      background-color: #3B4455;\n",
              "      fill: #D2E3FC;\n",
              "    }\n",
              "\n",
              "    [theme=dark] .colab-df-convert:hover {\n",
              "      background-color: #434B5C;\n",
              "      box-shadow: 0px 1px 3px 1px rgba(0, 0, 0, 0.15);\n",
              "      filter: drop-shadow(0px 1px 2px rgba(0, 0, 0, 0.3));\n",
              "      fill: #FFFFFF;\n",
              "    }\n",
              "  </style>\n",
              "\n",
              "    <script>\n",
              "      const buttonEl =\n",
              "        document.querySelector('#df-bf649a93-19ea-4c0f-ba1f-d49767161bf1 button.colab-df-convert');\n",
              "      buttonEl.style.display =\n",
              "        google.colab.kernel.accessAllowed ? 'block' : 'none';\n",
              "\n",
              "      async function convertToInteractive(key) {\n",
              "        const element = document.querySelector('#df-bf649a93-19ea-4c0f-ba1f-d49767161bf1');\n",
              "        const dataTable =\n",
              "          await google.colab.kernel.invokeFunction('convertToInteractive',\n",
              "                                                    [key], {});\n",
              "        if (!dataTable) return;\n",
              "\n",
              "        const docLinkHtml = 'Like what you see? Visit the ' +\n",
              "          '<a target=\"_blank\" href=https://colab.research.google.com/notebooks/data_table.ipynb>data table notebook</a>'\n",
              "          + ' to learn more about interactive tables.';\n",
              "        element.innerHTML = '';\n",
              "        dataTable['output_type'] = 'display_data';\n",
              "        await google.colab.output.renderOutput(dataTable, element);\n",
              "        const docLink = document.createElement('div');\n",
              "        docLink.innerHTML = docLinkHtml;\n",
              "        element.appendChild(docLink);\n",
              "      }\n",
              "    </script>\n",
              "  </div>\n",
              "\n",
              "\n",
              "<div id=\"df-7b334396-b640-42a0-9d19-dfddfbaf94cc\">\n",
              "  <button class=\"colab-df-quickchart\" onclick=\"quickchart('df-7b334396-b640-42a0-9d19-dfddfbaf94cc')\"\n",
              "            title=\"Suggest charts\"\n",
              "            style=\"display:none;\">\n",
              "\n",
              "<svg xmlns=\"http://www.w3.org/2000/svg\" height=\"24px\"viewBox=\"0 0 24 24\"\n",
              "     width=\"24px\">\n",
              "    <g>\n",
              "        <path d=\"M19 3H5c-1.1 0-2 .9-2 2v14c0 1.1.9 2 2 2h14c1.1 0 2-.9 2-2V5c0-1.1-.9-2-2-2zM9 17H7v-7h2v7zm4 0h-2V7h2v10zm4 0h-2v-4h2v4z\"/>\n",
              "    </g>\n",
              "</svg>\n",
              "  </button>\n",
              "\n",
              "<style>\n",
              "  .colab-df-quickchart {\n",
              "      --bg-color: #E8F0FE;\n",
              "      --fill-color: #1967D2;\n",
              "      --hover-bg-color: #E2EBFA;\n",
              "      --hover-fill-color: #174EA6;\n",
              "      --disabled-fill-color: #AAA;\n",
              "      --disabled-bg-color: #DDD;\n",
              "  }\n",
              "\n",
              "  [theme=dark] .colab-df-quickchart {\n",
              "      --bg-color: #3B4455;\n",
              "      --fill-color: #D2E3FC;\n",
              "      --hover-bg-color: #434B5C;\n",
              "      --hover-fill-color: #FFFFFF;\n",
              "      --disabled-bg-color: #3B4455;\n",
              "      --disabled-fill-color: #666;\n",
              "  }\n",
              "\n",
              "  .colab-df-quickchart {\n",
              "    background-color: var(--bg-color);\n",
              "    border: none;\n",
              "    border-radius: 50%;\n",
              "    cursor: pointer;\n",
              "    display: none;\n",
              "    fill: var(--fill-color);\n",
              "    height: 32px;\n",
              "    padding: 0;\n",
              "    width: 32px;\n",
              "  }\n",
              "\n",
              "  .colab-df-quickchart:hover {\n",
              "    background-color: var(--hover-bg-color);\n",
              "    box-shadow: 0 1px 2px rgba(60, 64, 67, 0.3), 0 1px 3px 1px rgba(60, 64, 67, 0.15);\n",
              "    fill: var(--button-hover-fill-color);\n",
              "  }\n",
              "\n",
              "  .colab-df-quickchart-complete:disabled,\n",
              "  .colab-df-quickchart-complete:disabled:hover {\n",
              "    background-color: var(--disabled-bg-color);\n",
              "    fill: var(--disabled-fill-color);\n",
              "    box-shadow: none;\n",
              "  }\n",
              "\n",
              "  .colab-df-spinner {\n",
              "    border: 2px solid var(--fill-color);\n",
              "    border-color: transparent;\n",
              "    border-bottom-color: var(--fill-color);\n",
              "    animation:\n",
              "      spin 1s steps(1) infinite;\n",
              "  }\n",
              "\n",
              "  @keyframes spin {\n",
              "    0% {\n",
              "      border-color: transparent;\n",
              "      border-bottom-color: var(--fill-color);\n",
              "      border-left-color: var(--fill-color);\n",
              "    }\n",
              "    20% {\n",
              "      border-color: transparent;\n",
              "      border-left-color: var(--fill-color);\n",
              "      border-top-color: var(--fill-color);\n",
              "    }\n",
              "    30% {\n",
              "      border-color: transparent;\n",
              "      border-left-color: var(--fill-color);\n",
              "      border-top-color: var(--fill-color);\n",
              "      border-right-color: var(--fill-color);\n",
              "    }\n",
              "    40% {\n",
              "      border-color: transparent;\n",
              "      border-right-color: var(--fill-color);\n",
              "      border-top-color: var(--fill-color);\n",
              "    }\n",
              "    60% {\n",
              "      border-color: transparent;\n",
              "      border-right-color: var(--fill-color);\n",
              "    }\n",
              "    80% {\n",
              "      border-color: transparent;\n",
              "      border-right-color: var(--fill-color);\n",
              "      border-bottom-color: var(--fill-color);\n",
              "    }\n",
              "    90% {\n",
              "      border-color: transparent;\n",
              "      border-bottom-color: var(--fill-color);\n",
              "    }\n",
              "  }\n",
              "</style>\n",
              "\n",
              "  <script>\n",
              "    async function quickchart(key) {\n",
              "      const quickchartButtonEl =\n",
              "        document.querySelector('#' + key + ' button');\n",
              "      quickchartButtonEl.disabled = true;  // To prevent multiple clicks.\n",
              "      quickchartButtonEl.classList.add('colab-df-spinner');\n",
              "      try {\n",
              "        const charts = await google.colab.kernel.invokeFunction(\n",
              "            'suggestCharts', [key], {});\n",
              "      } catch (error) {\n",
              "        console.error('Error during call to suggestCharts:', error);\n",
              "      }\n",
              "      quickchartButtonEl.classList.remove('colab-df-spinner');\n",
              "      quickchartButtonEl.classList.add('colab-df-quickchart-complete');\n",
              "    }\n",
              "    (() => {\n",
              "      let quickchartButtonEl =\n",
              "        document.querySelector('#df-7b334396-b640-42a0-9d19-dfddfbaf94cc button');\n",
              "      quickchartButtonEl.style.display =\n",
              "        google.colab.kernel.accessAllowed ? 'block' : 'none';\n",
              "    })();\n",
              "  </script>\n",
              "</div>\n",
              "\n",
              "    </div>\n",
              "  </div>\n"
            ],
            "text/plain": [
              "       destination_port  flow_duration  total_fwd_packets  \\\n",
              "count      2.520798e+06   2.520798e+06       2.520798e+06   \n",
              "mean       8.690590e+03   1.659161e+07       1.028174e+01   \n",
              "std        1.901280e+04   3.523276e+07       7.944201e+02   \n",
              "min        0.000000e+00   0.000000e+00       1.000000e+00   \n",
              "25%        5.300000e+01   2.080000e+02       2.000000e+00   \n",
              "50%        8.000000e+01   5.062200e+04       2.000000e+00   \n",
              "75%        4.430000e+02   5.333340e+06       6.000000e+00   \n",
              "max        6.553500e+04   1.200000e+08       2.197590e+05   \n",
              "\n",
              "       total_backward_packets  total_length_of_fwd_packets  \\\n",
              "count            2.520798e+06                 2.520798e+06   \n",
              "mean             1.157280e+01                 6.119477e+02   \n",
              "std              1.056922e+03                 1.058827e+04   \n",
              "min              0.000000e+00                 0.000000e+00   \n",
              "25%              1.000000e+00                 1.200000e+01   \n",
              "50%              2.000000e+00                 6.600000e+01   \n",
              "75%              5.000000e+00                 3.320000e+02   \n",
              "max              2.919220e+05                 1.290000e+07   \n",
              "\n",
              "       total_length_of_bwd_packets  fwd_packet_length_max  \\\n",
              "count                 2.520798e+06           2.520798e+06   \n",
              "mean                  1.814440e+04           2.312292e+02   \n",
              "std                   2.398177e+06           7.563755e+02   \n",
              "min                   0.000000e+00           0.000000e+00   \n",
              "25%                   6.000000e+00           6.000000e+00   \n",
              "50%                   1.560000e+02           4.000000e+01   \n",
              "75%                   9.970000e+02           2.020000e+02   \n",
              "max                   6.554530e+08           2.482000e+04   \n",
              "\n",
              "       fwd_packet_length_min  fwd_packet_length_mean  fwd_packet_length_std  \\\n",
              "count           2.520798e+06            2.520798e+06           2.520798e+06   \n",
              "mean            1.920349e+01            6.350497e+01           7.732347e+01   \n",
              "std             6.079834e+01            1.955526e+02           2.968814e+02   \n",
              "min             0.000000e+00            0.000000e+00           0.000000e+00   \n",
              "25%             0.000000e+00            6.000000e+00           0.000000e+00   \n",
              "50%             2.000000e+00            3.625000e+01           0.000000e+00   \n",
              "75%             3.700000e+01            5.200000e+01           7.419280e+01   \n",
              "max             2.325000e+03            5.940857e+03           7.125597e+03   \n",
              "\n",
              "       ...  min_seg_size_forward   active_mean    active_std    active_max  \\\n",
              "count  ...          2.520798e+06  2.520798e+06  2.520798e+06  2.520798e+06   \n",
              "mean   ...          2.588550e+01  9.157847e+04  4.619177e+04  1.720171e+05   \n",
              "std    ...          6.525341e+00  6.866503e+05  4.165844e+05  1.085571e+06   \n",
              "min    ...          0.000000e+00  0.000000e+00  0.000000e+00  0.000000e+00   \n",
              "25%    ...          2.000000e+01  0.000000e+00  0.000000e+00  0.000000e+00   \n",
              "50%    ...          2.000000e+01  0.000000e+00  0.000000e+00  0.000000e+00   \n",
              "75%    ...          3.200000e+01  0.000000e+00  0.000000e+00  0.000000e+00   \n",
              "max    ...          1.380000e+02  1.100000e+08  7.420000e+07  1.100000e+08   \n",
              "\n",
              "         active_min     idle_mean      idle_std      idle_max      idle_min  \\\n",
              "count  2.520798e+06  2.520798e+06  2.520798e+06  2.520798e+06  2.520798e+06   \n",
              "mean   6.546359e+04  9.337367e+06  5.657941e+05  9.763770e+06  8.892671e+06   \n",
              "std    6.111585e+05  2.484818e+07  4.874169e+06  2.561746e+07  2.458143e+07   \n",
              "min    0.000000e+00  0.000000e+00  0.000000e+00  0.000000e+00  0.000000e+00   \n",
              "25%    0.000000e+00  0.000000e+00  0.000000e+00  0.000000e+00  0.000000e+00   \n",
              "50%    0.000000e+00  0.000000e+00  0.000000e+00  0.000000e+00  0.000000e+00   \n",
              "75%    0.000000e+00  0.000000e+00  0.000000e+00  0.000000e+00  0.000000e+00   \n",
              "max    1.100000e+08  1.200000e+08  7.690000e+07  1.200000e+08  1.200000e+08   \n",
              "\n",
              "              label  \n",
              "count  2.520798e+06  \n",
              "mean   1.688914e-01  \n",
              "std    3.746560e-01  \n",
              "min    0.000000e+00  \n",
              "25%    0.000000e+00  \n",
              "50%    0.000000e+00  \n",
              "75%    0.000000e+00  \n",
              "max    1.000000e+00  \n",
              "\n",
              "[8 rows x 66 columns]"
            ]
          },
          "execution_count": 19,
          "metadata": {},
          "output_type": "execute_result"
        }
      ],
      "source": [
        "df_concat.describe()"
      ]
    },
    {
      "cell_type": "code",
      "execution_count": 20,
      "metadata": {
        "colab": {
          "base_uri": "https://localhost:8080/",
          "height": 256
        },
        "id": "Xh520ppJgqGW",
        "outputId": "32754207-b67a-423b-9baa-1fdd220b4076"
      },
      "outputs": [
        {
          "data": {
            "application/vnd.google.colaboratory.intrinsic+json": {
              "type": "dataframe",
              "variable_name": "df_concat"
            },
            "text/html": [
              "\n",
              "  <div id=\"df-221c7d06-1dfc-47db-b9d0-e2008ecd794a\" class=\"colab-df-container\">\n",
              "    <div>\n",
              "<style scoped>\n",
              "    .dataframe tbody tr th:only-of-type {\n",
              "        vertical-align: middle;\n",
              "    }\n",
              "\n",
              "    .dataframe tbody tr th {\n",
              "        vertical-align: top;\n",
              "    }\n",
              "\n",
              "    .dataframe thead th {\n",
              "        text-align: right;\n",
              "    }\n",
              "</style>\n",
              "<table border=\"1\" class=\"dataframe\">\n",
              "  <thead>\n",
              "    <tr style=\"text-align: right;\">\n",
              "      <th></th>\n",
              "      <th>destination_port</th>\n",
              "      <th>flow_duration</th>\n",
              "      <th>total_fwd_packets</th>\n",
              "      <th>total_backward_packets</th>\n",
              "      <th>total_length_of_fwd_packets</th>\n",
              "      <th>total_length_of_bwd_packets</th>\n",
              "      <th>fwd_packet_length_max</th>\n",
              "      <th>fwd_packet_length_min</th>\n",
              "      <th>fwd_packet_length_mean</th>\n",
              "      <th>fwd_packet_length_std</th>\n",
              "      <th>...</th>\n",
              "      <th>min_seg_size_forward</th>\n",
              "      <th>active_mean</th>\n",
              "      <th>active_std</th>\n",
              "      <th>active_max</th>\n",
              "      <th>active_min</th>\n",
              "      <th>idle_mean</th>\n",
              "      <th>idle_std</th>\n",
              "      <th>idle_max</th>\n",
              "      <th>idle_min</th>\n",
              "      <th>label</th>\n",
              "    </tr>\n",
              "  </thead>\n",
              "  <tbody>\n",
              "    <tr>\n",
              "      <th>0</th>\n",
              "      <td>389</td>\n",
              "      <td>113095465</td>\n",
              "      <td>48</td>\n",
              "      <td>24</td>\n",
              "      <td>9668</td>\n",
              "      <td>10012</td>\n",
              "      <td>403</td>\n",
              "      <td>0</td>\n",
              "      <td>201.416667</td>\n",
              "      <td>203.548293</td>\n",
              "      <td>...</td>\n",
              "      <td>32</td>\n",
              "      <td>203985.500</td>\n",
              "      <td>5.758373e+05</td>\n",
              "      <td>1629110</td>\n",
              "      <td>379</td>\n",
              "      <td>13800000.0</td>\n",
              "      <td>4.277541e+06</td>\n",
              "      <td>16500000</td>\n",
              "      <td>6737603</td>\n",
              "      <td>0</td>\n",
              "    </tr>\n",
              "    <tr>\n",
              "      <th>1</th>\n",
              "      <td>389</td>\n",
              "      <td>113473706</td>\n",
              "      <td>68</td>\n",
              "      <td>40</td>\n",
              "      <td>11364</td>\n",
              "      <td>12718</td>\n",
              "      <td>403</td>\n",
              "      <td>0</td>\n",
              "      <td>167.117647</td>\n",
              "      <td>171.919413</td>\n",
              "      <td>...</td>\n",
              "      <td>32</td>\n",
              "      <td>178326.875</td>\n",
              "      <td>5.034269e+05</td>\n",
              "      <td>1424245</td>\n",
              "      <td>325</td>\n",
              "      <td>13800000.0</td>\n",
              "      <td>4.229413e+06</td>\n",
              "      <td>16500000</td>\n",
              "      <td>6945512</td>\n",
              "      <td>0</td>\n",
              "    </tr>\n",
              "    <tr>\n",
              "      <th>2</th>\n",
              "      <td>0</td>\n",
              "      <td>119945515</td>\n",
              "      <td>150</td>\n",
              "      <td>0</td>\n",
              "      <td>0</td>\n",
              "      <td>0</td>\n",
              "      <td>0</td>\n",
              "      <td>0</td>\n",
              "      <td>0.000000</td>\n",
              "      <td>0.000000</td>\n",
              "      <td>...</td>\n",
              "      <td>0</td>\n",
              "      <td>6909777.333</td>\n",
              "      <td>1.170000e+07</td>\n",
              "      <td>20400000</td>\n",
              "      <td>6</td>\n",
              "      <td>24400000.0</td>\n",
              "      <td>2.430000e+07</td>\n",
              "      <td>60100000</td>\n",
              "      <td>5702188</td>\n",
              "      <td>0</td>\n",
              "    </tr>\n",
              "    <tr>\n",
              "      <th>3</th>\n",
              "      <td>443</td>\n",
              "      <td>60261928</td>\n",
              "      <td>9</td>\n",
              "      <td>7</td>\n",
              "      <td>2330</td>\n",
              "      <td>4221</td>\n",
              "      <td>1093</td>\n",
              "      <td>0</td>\n",
              "      <td>258.888889</td>\n",
              "      <td>409.702161</td>\n",
              "      <td>...</td>\n",
              "      <td>20</td>\n",
              "      <td>0.000</td>\n",
              "      <td>0.000000e+00</td>\n",
              "      <td>0</td>\n",
              "      <td>0</td>\n",
              "      <td>0.0</td>\n",
              "      <td>0.000000e+00</td>\n",
              "      <td>0</td>\n",
              "      <td>0</td>\n",
              "      <td>0</td>\n",
              "    </tr>\n",
              "    <tr>\n",
              "      <th>4</th>\n",
              "      <td>53</td>\n",
              "      <td>269</td>\n",
              "      <td>2</td>\n",
              "      <td>2</td>\n",
              "      <td>102</td>\n",
              "      <td>322</td>\n",
              "      <td>51</td>\n",
              "      <td>51</td>\n",
              "      <td>51.000000</td>\n",
              "      <td>0.000000</td>\n",
              "      <td>...</td>\n",
              "      <td>32</td>\n",
              "      <td>0.000</td>\n",
              "      <td>0.000000e+00</td>\n",
              "      <td>0</td>\n",
              "      <td>0</td>\n",
              "      <td>0.0</td>\n",
              "      <td>0.000000e+00</td>\n",
              "      <td>0</td>\n",
              "      <td>0</td>\n",
              "      <td>0</td>\n",
              "    </tr>\n",
              "  </tbody>\n",
              "</table>\n",
              "<p>5 rows × 66 columns</p>\n",
              "</div>\n",
              "    <div class=\"colab-df-buttons\">\n",
              "\n",
              "  <div class=\"colab-df-container\">\n",
              "    <button class=\"colab-df-convert\" onclick=\"convertToInteractive('df-221c7d06-1dfc-47db-b9d0-e2008ecd794a')\"\n",
              "            title=\"Convert this dataframe to an interactive table.\"\n",
              "            style=\"display:none;\">\n",
              "\n",
              "  <svg xmlns=\"http://www.w3.org/2000/svg\" height=\"24px\" viewBox=\"0 -960 960 960\">\n",
              "    <path d=\"M120-120v-720h720v720H120Zm60-500h600v-160H180v160Zm220 220h160v-160H400v160Zm0 220h160v-160H400v160ZM180-400h160v-160H180v160Zm440 0h160v-160H620v160ZM180-180h160v-160H180v160Zm440 0h160v-160H620v160Z\"/>\n",
              "  </svg>\n",
              "    </button>\n",
              "\n",
              "  <style>\n",
              "    .colab-df-container {\n",
              "      display:flex;\n",
              "      gap: 12px;\n",
              "    }\n",
              "\n",
              "    .colab-df-convert {\n",
              "      background-color: #E8F0FE;\n",
              "      border: none;\n",
              "      border-radius: 50%;\n",
              "      cursor: pointer;\n",
              "      display: none;\n",
              "      fill: #1967D2;\n",
              "      height: 32px;\n",
              "      padding: 0 0 0 0;\n",
              "      width: 32px;\n",
              "    }\n",
              "\n",
              "    .colab-df-convert:hover {\n",
              "      background-color: #E2EBFA;\n",
              "      box-shadow: 0px 1px 2px rgba(60, 64, 67, 0.3), 0px 1px 3px 1px rgba(60, 64, 67, 0.15);\n",
              "      fill: #174EA6;\n",
              "    }\n",
              "\n",
              "    .colab-df-buttons div {\n",
              "      margin-bottom: 4px;\n",
              "    }\n",
              "\n",
              "    [theme=dark] .colab-df-convert {\n",
              "      background-color: #3B4455;\n",
              "      fill: #D2E3FC;\n",
              "    }\n",
              "\n",
              "    [theme=dark] .colab-df-convert:hover {\n",
              "      background-color: #434B5C;\n",
              "      box-shadow: 0px 1px 3px 1px rgba(0, 0, 0, 0.15);\n",
              "      filter: drop-shadow(0px 1px 2px rgba(0, 0, 0, 0.3));\n",
              "      fill: #FFFFFF;\n",
              "    }\n",
              "  </style>\n",
              "\n",
              "    <script>\n",
              "      const buttonEl =\n",
              "        document.querySelector('#df-221c7d06-1dfc-47db-b9d0-e2008ecd794a button.colab-df-convert');\n",
              "      buttonEl.style.display =\n",
              "        google.colab.kernel.accessAllowed ? 'block' : 'none';\n",
              "\n",
              "      async function convertToInteractive(key) {\n",
              "        const element = document.querySelector('#df-221c7d06-1dfc-47db-b9d0-e2008ecd794a');\n",
              "        const dataTable =\n",
              "          await google.colab.kernel.invokeFunction('convertToInteractive',\n",
              "                                                    [key], {});\n",
              "        if (!dataTable) return;\n",
              "\n",
              "        const docLinkHtml = 'Like what you see? Visit the ' +\n",
              "          '<a target=\"_blank\" href=https://colab.research.google.com/notebooks/data_table.ipynb>data table notebook</a>'\n",
              "          + ' to learn more about interactive tables.';\n",
              "        element.innerHTML = '';\n",
              "        dataTable['output_type'] = 'display_data';\n",
              "        await google.colab.output.renderOutput(dataTable, element);\n",
              "        const docLink = document.createElement('div');\n",
              "        docLink.innerHTML = docLinkHtml;\n",
              "        element.appendChild(docLink);\n",
              "      }\n",
              "    </script>\n",
              "  </div>\n",
              "\n",
              "\n",
              "<div id=\"df-fb2f0cfb-4963-4bc4-bdfb-83a2278eb2d6\">\n",
              "  <button class=\"colab-df-quickchart\" onclick=\"quickchart('df-fb2f0cfb-4963-4bc4-bdfb-83a2278eb2d6')\"\n",
              "            title=\"Suggest charts\"\n",
              "            style=\"display:none;\">\n",
              "\n",
              "<svg xmlns=\"http://www.w3.org/2000/svg\" height=\"24px\"viewBox=\"0 0 24 24\"\n",
              "     width=\"24px\">\n",
              "    <g>\n",
              "        <path d=\"M19 3H5c-1.1 0-2 .9-2 2v14c0 1.1.9 2 2 2h14c1.1 0 2-.9 2-2V5c0-1.1-.9-2-2-2zM9 17H7v-7h2v7zm4 0h-2V7h2v10zm4 0h-2v-4h2v4z\"/>\n",
              "    </g>\n",
              "</svg>\n",
              "  </button>\n",
              "\n",
              "<style>\n",
              "  .colab-df-quickchart {\n",
              "      --bg-color: #E8F0FE;\n",
              "      --fill-color: #1967D2;\n",
              "      --hover-bg-color: #E2EBFA;\n",
              "      --hover-fill-color: #174EA6;\n",
              "      --disabled-fill-color: #AAA;\n",
              "      --disabled-bg-color: #DDD;\n",
              "  }\n",
              "\n",
              "  [theme=dark] .colab-df-quickchart {\n",
              "      --bg-color: #3B4455;\n",
              "      --fill-color: #D2E3FC;\n",
              "      --hover-bg-color: #434B5C;\n",
              "      --hover-fill-color: #FFFFFF;\n",
              "      --disabled-bg-color: #3B4455;\n",
              "      --disabled-fill-color: #666;\n",
              "  }\n",
              "\n",
              "  .colab-df-quickchart {\n",
              "    background-color: var(--bg-color);\n",
              "    border: none;\n",
              "    border-radius: 50%;\n",
              "    cursor: pointer;\n",
              "    display: none;\n",
              "    fill: var(--fill-color);\n",
              "    height: 32px;\n",
              "    padding: 0;\n",
              "    width: 32px;\n",
              "  }\n",
              "\n",
              "  .colab-df-quickchart:hover {\n",
              "    background-color: var(--hover-bg-color);\n",
              "    box-shadow: 0 1px 2px rgba(60, 64, 67, 0.3), 0 1px 3px 1px rgba(60, 64, 67, 0.15);\n",
              "    fill: var(--button-hover-fill-color);\n",
              "  }\n",
              "\n",
              "  .colab-df-quickchart-complete:disabled,\n",
              "  .colab-df-quickchart-complete:disabled:hover {\n",
              "    background-color: var(--disabled-bg-color);\n",
              "    fill: var(--disabled-fill-color);\n",
              "    box-shadow: none;\n",
              "  }\n",
              "\n",
              "  .colab-df-spinner {\n",
              "    border: 2px solid var(--fill-color);\n",
              "    border-color: transparent;\n",
              "    border-bottom-color: var(--fill-color);\n",
              "    animation:\n",
              "      spin 1s steps(1) infinite;\n",
              "  }\n",
              "\n",
              "  @keyframes spin {\n",
              "    0% {\n",
              "      border-color: transparent;\n",
              "      border-bottom-color: var(--fill-color);\n",
              "      border-left-color: var(--fill-color);\n",
              "    }\n",
              "    20% {\n",
              "      border-color: transparent;\n",
              "      border-left-color: var(--fill-color);\n",
              "      border-top-color: var(--fill-color);\n",
              "    }\n",
              "    30% {\n",
              "      border-color: transparent;\n",
              "      border-left-color: var(--fill-color);\n",
              "      border-top-color: var(--fill-color);\n",
              "      border-right-color: var(--fill-color);\n",
              "    }\n",
              "    40% {\n",
              "      border-color: transparent;\n",
              "      border-right-color: var(--fill-color);\n",
              "      border-top-color: var(--fill-color);\n",
              "    }\n",
              "    60% {\n",
              "      border-color: transparent;\n",
              "      border-right-color: var(--fill-color);\n",
              "    }\n",
              "    80% {\n",
              "      border-color: transparent;\n",
              "      border-right-color: var(--fill-color);\n",
              "      border-bottom-color: var(--fill-color);\n",
              "    }\n",
              "    90% {\n",
              "      border-color: transparent;\n",
              "      border-bottom-color: var(--fill-color);\n",
              "    }\n",
              "  }\n",
              "</style>\n",
              "\n",
              "  <script>\n",
              "    async function quickchart(key) {\n",
              "      const quickchartButtonEl =\n",
              "        document.querySelector('#' + key + ' button');\n",
              "      quickchartButtonEl.disabled = true;  // To prevent multiple clicks.\n",
              "      quickchartButtonEl.classList.add('colab-df-spinner');\n",
              "      try {\n",
              "        const charts = await google.colab.kernel.invokeFunction(\n",
              "            'suggestCharts', [key], {});\n",
              "      } catch (error) {\n",
              "        console.error('Error during call to suggestCharts:', error);\n",
              "      }\n",
              "      quickchartButtonEl.classList.remove('colab-df-spinner');\n",
              "      quickchartButtonEl.classList.add('colab-df-quickchart-complete');\n",
              "    }\n",
              "    (() => {\n",
              "      let quickchartButtonEl =\n",
              "        document.querySelector('#df-fb2f0cfb-4963-4bc4-bdfb-83a2278eb2d6 button');\n",
              "      quickchartButtonEl.style.display =\n",
              "        google.colab.kernel.accessAllowed ? 'block' : 'none';\n",
              "    })();\n",
              "  </script>\n",
              "</div>\n",
              "\n",
              "    </div>\n",
              "  </div>\n"
            ],
            "text/plain": [
              "   destination_port  flow_duration  total_fwd_packets  total_backward_packets  \\\n",
              "0               389      113095465                 48                      24   \n",
              "1               389      113473706                 68                      40   \n",
              "2                 0      119945515                150                       0   \n",
              "3               443       60261928                  9                       7   \n",
              "4                53            269                  2                       2   \n",
              "\n",
              "   total_length_of_fwd_packets  total_length_of_bwd_packets  \\\n",
              "0                         9668                        10012   \n",
              "1                        11364                        12718   \n",
              "2                            0                            0   \n",
              "3                         2330                         4221   \n",
              "4                          102                          322   \n",
              "\n",
              "   fwd_packet_length_max  fwd_packet_length_min  fwd_packet_length_mean  \\\n",
              "0                    403                      0              201.416667   \n",
              "1                    403                      0              167.117647   \n",
              "2                      0                      0                0.000000   \n",
              "3                   1093                      0              258.888889   \n",
              "4                     51                     51               51.000000   \n",
              "\n",
              "   fwd_packet_length_std  ...  min_seg_size_forward  active_mean  \\\n",
              "0             203.548293  ...                    32   203985.500   \n",
              "1             171.919413  ...                    32   178326.875   \n",
              "2               0.000000  ...                     0  6909777.333   \n",
              "3             409.702161  ...                    20        0.000   \n",
              "4               0.000000  ...                    32        0.000   \n",
              "\n",
              "     active_std  active_max  active_min   idle_mean      idle_std  idle_max  \\\n",
              "0  5.758373e+05     1629110         379  13800000.0  4.277541e+06  16500000   \n",
              "1  5.034269e+05     1424245         325  13800000.0  4.229413e+06  16500000   \n",
              "2  1.170000e+07    20400000           6  24400000.0  2.430000e+07  60100000   \n",
              "3  0.000000e+00           0           0         0.0  0.000000e+00         0   \n",
              "4  0.000000e+00           0           0         0.0  0.000000e+00         0   \n",
              "\n",
              "   idle_min  label  \n",
              "0   6737603      0  \n",
              "1   6945512      0  \n",
              "2   5702188      0  \n",
              "3         0      0  \n",
              "4         0      0  \n",
              "\n",
              "[5 rows x 66 columns]"
            ]
          },
          "execution_count": 20,
          "metadata": {},
          "output_type": "execute_result"
        }
      ],
      "source": [
        "df_concat.head()"
      ]
    },
    {
      "cell_type": "code",
      "execution_count": 21,
      "metadata": {
        "id": "03UGVv8Kgzw6"
      },
      "outputs": [],
      "source": [
        "feature_list = ['destination_port', 'packet_length_mean','packet_length_std','packet_length_variance','average_packet_size','fwd_iat_mean','fwd_iat_std','fwd_iat_max']"
      ]
    },
    {
      "cell_type": "code",
      "execution_count": 22,
      "metadata": {
        "id": "ZS0EA5CztlkT"
      },
      "outputs": [],
      "source": [
        "from sklearn.model_selection import train_test_split\n",
        "\n",
        "X = df_concat[feature_list]\n",
        "y = df_concat['label']\n",
        "\n",
        "X_train, X_test, y_train, y_test = train_test_split(X, y, test_size=0.2, random_state=42)"
      ]
    },
    {
      "cell_type": "code",
      "execution_count": 23,
      "metadata": {
        "id": "jQQoXnDd1fPZ"
      },
      "outputs": [],
      "source": [
        "class LogisticRegression(torch.nn.Module):\n",
        "\n",
        "    def __init__(self, input_dim, output_dim):\n",
        "        super(LogisticRegression, self).__init__()\n",
        "        self.linear = torch.nn.Linear(input_dim, output_dim)\n",
        "        self.quant = QuantStub()\n",
        "        self.dequant = DeQuantStub()\n",
        "\n",
        "    def forward(self, x):\n",
        "        x = self.quant(x)\n",
        "        y = self.linear(x)\n",
        "        y = torch.sigmoid(y)\n",
        "        y = self.dequant(y)\n",
        "        return y"
      ]
    },
    {
      "cell_type": "code",
      "execution_count": 24,
      "metadata": {
        "id": "bzvtaOA8wNqi"
      },
      "outputs": [],
      "source": [
        "def evaluate(model, data, criterion):\n",
        "    loss = 0.0\n",
        "    with torch.no_grad():\n",
        "        for (x, y_target) in data:\n",
        "            y = model(x)\n",
        "            loss += criterion(y, y_target)\n",
        "    return loss"
      ]
    },
    {
      "cell_type": "code",
      "execution_count": 26,
      "metadata": {
        "id": "-jgfTDPFX0lk"
      },
      "outputs": [],
      "source": [
        "X_train = torch.tensor(X_train.values, dtype=torch.float)\n",
        "y_train = torch.tensor(y_train.values, dtype=torch.float)\n",
        "X_test = torch.tensor(X_test.values, dtype=torch.float)\n",
        "y_test = torch.tensor(y_test.values, dtype=torch.float)"
      ]
    },
    {
      "cell_type": "code",
      "execution_count": 27,
      "metadata": {
        "id": "Ry-KQRIjX2FT"
      },
      "outputs": [],
      "source": [
        "del csv_files, df_concat, X, feature_list, joined_files, joined_list, mask, unique_vals, y, df_labels"
      ]
    },
    {
      "cell_type": "code",
      "execution_count": 28,
      "metadata": {
        "colab": {
          "base_uri": "https://localhost:8080/"
        },
        "id": "bTIghADlYE0H",
        "outputId": "82452dc7-0304-4833-9888-a571ff92aa7b"
      },
      "outputs": [
        {
          "name": "stdout",
          "output_type": "stream",
          "text": [
            "cuda:0\n"
          ]
        }
      ],
      "source": [
        "_DIM_INPUT = 8  # 8\n",
        "_DIM_OUTPUT = 1  # it's a binary classifier\n",
        "device = torch.device('cuda:0' if torch.cuda.is_available() else 'cpu')\n",
        "print(device)"
      ]
    },
    {
      "cell_type": "code",
      "execution_count": 29,
      "metadata": {
        "id": "qzW8hnLzYHXi"
      },
      "outputs": [],
      "source": [
        "model = LogisticRegression(_DIM_INPUT, _DIM_OUTPUT)"
      ]
    },
    {
      "cell_type": "code",
      "execution_count": 30,
      "metadata": {
        "colab": {
          "base_uri": "https://localhost:8080/"
        },
        "id": "F3YszpnpYJ2u",
        "outputId": "e750fffb-97e0-4a5a-9eeb-e78ffece7f25"
      },
      "outputs": [
        {
          "name": "stdout",
          "output_type": "stream",
          "text": [
            "LogisticRegression(\n",
            "  (linear): Linear(\n",
            "    in_features=8, out_features=1, bias=True\n",
            "    (weight_fake_quant): MinMaxObserver(min_val=inf, max_val=-inf)\n",
            "    (activation_post_process): MinMaxObserver(min_val=inf, max_val=-inf)\n",
            "  )\n",
            "  (quant): QuantStub(\n",
            "    (activation_post_process): MinMaxObserver(min_val=inf, max_val=-inf)\n",
            "  )\n",
            "  (dequant): DeQuantStub()\n",
            ")\n"
          ]
        }
      ],
      "source": [
        "# Insert min-max observers in the model\n",
        "\n",
        "model.qconfig = torch.ao.quantization.default_qconfig\n",
        "model.train()\n",
        "model_quantized = torch.ao.quantization.prepare_qat(model) # Insert observers\n",
        "print(model_quantized)"
      ]
    },
    {
      "cell_type": "code",
      "execution_count": 31,
      "metadata": {
        "colab": {
          "base_uri": "https://localhost:8080/"
        },
        "id": "Ioc6g8rgtQZf",
        "outputId": "8e90173b-2d75-4acc-ba8b-36abe146e1b9"
      },
      "outputs": [
        {
          "name": "stderr",
          "output_type": "stream",
          "text": [
            "  0%|          | 2/1000 [00:00<02:25,  6.84it/s]"
          ]
        },
        {
          "name": "stdout",
          "output_type": "stream",
          "text": [
            "epoch 0, loss 70.5285053638779\n"
          ]
        },
        {
          "name": "stderr",
          "output_type": "stream",
          "text": [
            "  1%|          | 12/1000 [00:01<03:01,  5.45it/s]"
          ]
        },
        {
          "name": "stdout",
          "output_type": "stream",
          "text": [
            "epoch 10, loss 37.20277808907697\n"
          ]
        },
        {
          "name": "stderr",
          "output_type": "stream",
          "text": [
            "  2%|▏         | 22/1000 [00:03<02:28,  6.58it/s]"
          ]
        },
        {
          "name": "stdout",
          "output_type": "stream",
          "text": [
            "epoch 20, loss 33.85971701415921\n"
          ]
        },
        {
          "name": "stderr",
          "output_type": "stream",
          "text": [
            "  3%|▎         | 31/1000 [00:05<03:33,  4.54it/s]"
          ]
        },
        {
          "name": "stdout",
          "output_type": "stream",
          "text": [
            "epoch 30, loss 33.6054919127776\n"
          ]
        },
        {
          "name": "stderr",
          "output_type": "stream",
          "text": [
            "  4%|▍         | 41/1000 [00:07<02:50,  5.63it/s]"
          ]
        },
        {
          "name": "stdout",
          "output_type": "stream",
          "text": [
            "epoch 40, loss 33.556832708696355\n"
          ]
        },
        {
          "name": "stderr",
          "output_type": "stream",
          "text": [
            "  5%|▌         | 52/1000 [00:08<02:22,  6.64it/s]"
          ]
        },
        {
          "name": "stdout",
          "output_type": "stream",
          "text": [
            "epoch 50, loss 33.48142006646706\n"
          ]
        },
        {
          "name": "stderr",
          "output_type": "stream",
          "text": [
            "  6%|▌         | 62/1000 [00:10<02:23,  6.54it/s]"
          ]
        },
        {
          "name": "stdout",
          "output_type": "stream",
          "text": [
            "epoch 60, loss 33.4035082151581\n"
          ]
        },
        {
          "name": "stderr",
          "output_type": "stream",
          "text": [
            "  7%|▋         | 72/1000 [00:12<02:23,  6.49it/s]"
          ]
        },
        {
          "name": "stdout",
          "output_type": "stream",
          "text": [
            "epoch 70, loss 33.35253625092852\n"
          ]
        },
        {
          "name": "stderr",
          "output_type": "stream",
          "text": [
            "  8%|▊         | 82/1000 [00:13<02:20,  6.55it/s]"
          ]
        },
        {
          "name": "stdout",
          "output_type": "stream",
          "text": [
            "epoch 80, loss 33.31947528510322\n"
          ]
        },
        {
          "name": "stderr",
          "output_type": "stream",
          "text": [
            "  9%|▉         | 92/1000 [00:15<02:19,  6.53it/s]"
          ]
        },
        {
          "name": "stdout",
          "output_type": "stream",
          "text": [
            "epoch 90, loss 32.765821133986364\n"
          ]
        },
        {
          "name": "stderr",
          "output_type": "stream",
          "text": [
            " 10%|█         | 101/1000 [00:16<03:16,  4.57it/s]"
          ]
        },
        {
          "name": "stdout",
          "output_type": "stream",
          "text": [
            "epoch 100, loss 32.70620904693852\n"
          ]
        },
        {
          "name": "stderr",
          "output_type": "stream",
          "text": [
            " 11%|█         | 112/1000 [00:18<02:18,  6.40it/s]"
          ]
        },
        {
          "name": "stdout",
          "output_type": "stream",
          "text": [
            "epoch 110, loss 32.657668852813444\n"
          ]
        },
        {
          "name": "stderr",
          "output_type": "stream",
          "text": [
            " 12%|█▏        | 122/1000 [00:20<02:11,  6.67it/s]"
          ]
        },
        {
          "name": "stdout",
          "output_type": "stream",
          "text": [
            "epoch 120, loss 32.60026440045264\n"
          ]
        },
        {
          "name": "stderr",
          "output_type": "stream",
          "text": [
            " 13%|█▎        | 132/1000 [00:21<02:12,  6.55it/s]"
          ]
        },
        {
          "name": "stdout",
          "output_type": "stream",
          "text": [
            "epoch 130, loss 32.540626527914284\n"
          ]
        },
        {
          "name": "stderr",
          "output_type": "stream",
          "text": [
            " 14%|█▍        | 142/1000 [00:23<02:09,  6.61it/s]"
          ]
        },
        {
          "name": "stdout",
          "output_type": "stream",
          "text": [
            "epoch 140, loss 32.47997707074845\n"
          ]
        },
        {
          "name": "stderr",
          "output_type": "stream",
          "text": [
            " 15%|█▌        | 152/1000 [00:24<02:10,  6.49it/s]"
          ]
        },
        {
          "name": "stdout",
          "output_type": "stream",
          "text": [
            "epoch 150, loss 32.38985876493451\n"
          ]
        },
        {
          "name": "stderr",
          "output_type": "stream",
          "text": [
            " 16%|█▌        | 162/1000 [00:26<02:07,  6.60it/s]"
          ]
        },
        {
          "name": "stdout",
          "output_type": "stream",
          "text": [
            "epoch 160, loss 32.24763591680807\n"
          ]
        },
        {
          "name": "stderr",
          "output_type": "stream",
          "text": [
            " 17%|█▋        | 171/1000 [00:27<02:29,  5.55it/s]"
          ]
        },
        {
          "name": "stdout",
          "output_type": "stream",
          "text": [
            "epoch 170, loss 32.06409479539709\n"
          ]
        },
        {
          "name": "stderr",
          "output_type": "stream",
          "text": [
            " 18%|█▊        | 182/1000 [00:30<02:24,  5.65it/s]"
          ]
        },
        {
          "name": "stdout",
          "output_type": "stream",
          "text": [
            "epoch 180, loss 31.81753393519313\n"
          ]
        },
        {
          "name": "stderr",
          "output_type": "stream",
          "text": [
            " 19%|█▉        | 192/1000 [00:31<02:08,  6.28it/s]"
          ]
        },
        {
          "name": "stdout",
          "output_type": "stream",
          "text": [
            "epoch 190, loss 31.64137143106497\n"
          ]
        },
        {
          "name": "stderr",
          "output_type": "stream",
          "text": [
            " 20%|██        | 202/1000 [00:33<02:05,  6.34it/s]"
          ]
        },
        {
          "name": "stdout",
          "output_type": "stream",
          "text": [
            "epoch 200, loss 31.443882342790328\n"
          ]
        },
        {
          "name": "stderr",
          "output_type": "stream",
          "text": [
            " 21%|██        | 212/1000 [00:34<02:05,  6.28it/s]"
          ]
        },
        {
          "name": "stdout",
          "output_type": "stream",
          "text": [
            "epoch 210, loss 31.22230167238741\n"
          ]
        },
        {
          "name": "stderr",
          "output_type": "stream",
          "text": [
            " 22%|██▏       | 222/1000 [00:36<02:01,  6.38it/s]"
          ]
        },
        {
          "name": "stdout",
          "output_type": "stream",
          "text": [
            "epoch 220, loss 30.94448284719419\n"
          ]
        },
        {
          "name": "stderr",
          "output_type": "stream",
          "text": [
            " 23%|██▎       | 232/1000 [00:38<02:02,  6.25it/s]"
          ]
        },
        {
          "name": "stdout",
          "output_type": "stream",
          "text": [
            "epoch 230, loss 30.712597898085825\n"
          ]
        },
        {
          "name": "stderr",
          "output_type": "stream",
          "text": [
            " 24%|██▍       | 241/1000 [00:40<03:49,  3.31it/s]"
          ]
        },
        {
          "name": "stdout",
          "output_type": "stream",
          "text": [
            "epoch 240, loss 30.250111323896505\n"
          ]
        },
        {
          "name": "stderr",
          "output_type": "stream",
          "text": [
            " 25%|██▌       | 252/1000 [00:43<02:13,  5.61it/s]"
          ]
        },
        {
          "name": "stdout",
          "output_type": "stream",
          "text": [
            "epoch 250, loss 29.251998623451506\n"
          ]
        },
        {
          "name": "stderr",
          "output_type": "stream",
          "text": [
            " 26%|██▌       | 262/1000 [00:44<02:02,  6.01it/s]"
          ]
        },
        {
          "name": "stdout",
          "output_type": "stream",
          "text": [
            "epoch 260, loss 25.821241095327967\n"
          ]
        },
        {
          "name": "stderr",
          "output_type": "stream",
          "text": [
            " 27%|██▋       | 272/1000 [00:47<02:15,  5.38it/s]"
          ]
        },
        {
          "name": "stdout",
          "output_type": "stream",
          "text": [
            "epoch 270, loss 14.777189560049944\n"
          ]
        },
        {
          "name": "stderr",
          "output_type": "stream",
          "text": [
            " 28%|██▊       | 281/1000 [00:48<02:39,  4.50it/s]"
          ]
        },
        {
          "name": "stdout",
          "output_type": "stream",
          "text": [
            "epoch 280, loss 14.705113163592078\n"
          ]
        },
        {
          "name": "stderr",
          "output_type": "stream",
          "text": [
            " 29%|██▉       | 292/1000 [00:51<02:15,  5.24it/s]"
          ]
        },
        {
          "name": "stdout",
          "output_type": "stream",
          "text": [
            "epoch 290, loss 14.668703059250099\n"
          ]
        },
        {
          "name": "stderr",
          "output_type": "stream",
          "text": [
            " 30%|███       | 301/1000 [00:53<02:38,  4.42it/s]"
          ]
        },
        {
          "name": "stdout",
          "output_type": "stream",
          "text": [
            "epoch 300, loss 14.623171833516972\n"
          ]
        },
        {
          "name": "stderr",
          "output_type": "stream",
          "text": [
            " 31%|███       | 312/1000 [00:56<01:59,  5.77it/s]"
          ]
        },
        {
          "name": "stdout",
          "output_type": "stream",
          "text": [
            "epoch 310, loss 14.52927396984486\n"
          ]
        },
        {
          "name": "stderr",
          "output_type": "stream",
          "text": [
            " 32%|███▏      | 322/1000 [00:57<01:49,  6.17it/s]"
          ]
        },
        {
          "name": "stdout",
          "output_type": "stream",
          "text": [
            "epoch 320, loss 14.43533048568955\n"
          ]
        },
        {
          "name": "stderr",
          "output_type": "stream",
          "text": [
            " 33%|███▎      | 332/1000 [00:59<01:46,  6.25it/s]"
          ]
        },
        {
          "name": "stdout",
          "output_type": "stream",
          "text": [
            "epoch 330, loss 14.320708029899269\n"
          ]
        },
        {
          "name": "stderr",
          "output_type": "stream",
          "text": [
            " 34%|███▍      | 342/1000 [01:00<01:46,  6.16it/s]"
          ]
        },
        {
          "name": "stdout",
          "output_type": "stream",
          "text": [
            "epoch 340, loss 14.171011356525067\n"
          ]
        },
        {
          "name": "stderr",
          "output_type": "stream",
          "text": [
            " 35%|███▌      | 352/1000 [01:02<01:44,  6.18it/s]"
          ]
        },
        {
          "name": "stdout",
          "output_type": "stream",
          "text": [
            "epoch 350, loss 13.862751768041662\n"
          ]
        },
        {
          "name": "stderr",
          "output_type": "stream",
          "text": [
            " 36%|███▌      | 362/1000 [01:04<01:47,  5.96it/s]"
          ]
        },
        {
          "name": "stdout",
          "output_type": "stream",
          "text": [
            "epoch 360, loss 13.224065994987697\n"
          ]
        },
        {
          "name": "stderr",
          "output_type": "stream",
          "text": [
            " 37%|███▋      | 371/1000 [01:06<02:28,  4.23it/s]"
          ]
        },
        {
          "name": "stdout",
          "output_type": "stream",
          "text": [
            "epoch 370, loss 14.562856595978058\n"
          ]
        },
        {
          "name": "stderr",
          "output_type": "stream",
          "text": [
            " 38%|███▊      | 382/1000 [01:08<01:41,  6.12it/s]"
          ]
        },
        {
          "name": "stdout",
          "output_type": "stream",
          "text": [
            "epoch 380, loss 14.514981865857928\n"
          ]
        },
        {
          "name": "stderr",
          "output_type": "stream",
          "text": [
            " 39%|███▉      | 392/1000 [01:09<01:36,  6.28it/s]"
          ]
        },
        {
          "name": "stdout",
          "output_type": "stream",
          "text": [
            "epoch 390, loss 14.46095828800211\n"
          ]
        },
        {
          "name": "stderr",
          "output_type": "stream",
          "text": [
            " 40%|████      | 402/1000 [01:11<01:35,  6.29it/s]"
          ]
        },
        {
          "name": "stdout",
          "output_type": "stream",
          "text": [
            "epoch 400, loss 14.402442084300702\n"
          ]
        },
        {
          "name": "stderr",
          "output_type": "stream",
          "text": [
            " 41%|████      | 412/1000 [01:12<01:32,  6.33it/s]"
          ]
        },
        {
          "name": "stdout",
          "output_type": "stream",
          "text": [
            "epoch 410, loss 14.333937970027343\n"
          ]
        },
        {
          "name": "stderr",
          "output_type": "stream",
          "text": [
            " 42%|████▏     | 422/1000 [01:14<01:31,  6.31it/s]"
          ]
        },
        {
          "name": "stdout",
          "output_type": "stream",
          "text": [
            "epoch 420, loss 14.25744233719686\n"
          ]
        },
        {
          "name": "stderr",
          "output_type": "stream",
          "text": [
            " 43%|████▎     | 432/1000 [01:16<01:32,  6.13it/s]"
          ]
        },
        {
          "name": "stdout",
          "output_type": "stream",
          "text": [
            "epoch 430, loss 14.169250009173684\n"
          ]
        },
        {
          "name": "stderr",
          "output_type": "stream",
          "text": [
            " 44%|████▍     | 441/1000 [01:18<02:06,  4.42it/s]"
          ]
        },
        {
          "name": "stdout",
          "output_type": "stream",
          "text": [
            "epoch 440, loss 14.04322044908407\n"
          ]
        },
        {
          "name": "stderr",
          "output_type": "stream",
          "text": [
            " 45%|████▌     | 452/1000 [01:20<01:34,  5.82it/s]"
          ]
        },
        {
          "name": "stdout",
          "output_type": "stream",
          "text": [
            "epoch 450, loss 13.838942834559301\n"
          ]
        },
        {
          "name": "stderr",
          "output_type": "stream",
          "text": [
            " 46%|████▌     | 462/1000 [01:21<01:28,  6.10it/s]"
          ]
        },
        {
          "name": "stdout",
          "output_type": "stream",
          "text": [
            "epoch 460, loss 13.297397946483207\n"
          ]
        },
        {
          "name": "stderr",
          "output_type": "stream",
          "text": [
            " 47%|████▋     | 472/1000 [01:23<01:25,  6.21it/s]"
          ]
        },
        {
          "name": "stdout",
          "output_type": "stream",
          "text": [
            "epoch 470, loss 14.298167544199801\n"
          ]
        },
        {
          "name": "stderr",
          "output_type": "stream",
          "text": [
            " 48%|████▊     | 482/1000 [01:24<01:23,  6.23it/s]"
          ]
        },
        {
          "name": "stdout",
          "output_type": "stream",
          "text": [
            "epoch 480, loss 14.23501292745649\n"
          ]
        },
        {
          "name": "stderr",
          "output_type": "stream",
          "text": [
            " 49%|████▉     | 492/1000 [01:26<01:24,  6.01it/s]"
          ]
        },
        {
          "name": "stdout",
          "output_type": "stream",
          "text": [
            "epoch 490, loss 17.729147224241533\n"
          ]
        },
        {
          "name": "stderr",
          "output_type": "stream",
          "text": [
            " 50%|█████     | 502/1000 [01:28<01:20,  6.15it/s]"
          ]
        },
        {
          "name": "stdout",
          "output_type": "stream",
          "text": [
            "epoch 500, loss 16.351274745393074\n"
          ]
        },
        {
          "name": "stderr",
          "output_type": "stream",
          "text": [
            " 51%|█████     | 511/1000 [01:30<01:49,  4.47it/s]"
          ]
        },
        {
          "name": "stdout",
          "output_type": "stream",
          "text": [
            "epoch 510, loss 15.804305978564324\n"
          ]
        },
        {
          "name": "stderr",
          "output_type": "stream",
          "text": [
            " 52%|█████▏    | 522/1000 [01:32<01:19,  6.01it/s]"
          ]
        },
        {
          "name": "stdout",
          "output_type": "stream",
          "text": [
            "epoch 520, loss 15.575151316200527\n"
          ]
        },
        {
          "name": "stderr",
          "output_type": "stream",
          "text": [
            " 53%|█████▎    | 532/1000 [01:33<01:20,  5.83it/s]"
          ]
        },
        {
          "name": "stdout",
          "output_type": "stream",
          "text": [
            "epoch 530, loss 15.121288005085692\n"
          ]
        },
        {
          "name": "stderr",
          "output_type": "stream",
          "text": [
            " 54%|█████▍    | 542/1000 [01:35<01:12,  6.32it/s]"
          ]
        },
        {
          "name": "stdout",
          "output_type": "stream",
          "text": [
            "epoch 540, loss 15.053774648697486\n"
          ]
        },
        {
          "name": "stderr",
          "output_type": "stream",
          "text": [
            " 55%|█████▌    | 552/1000 [01:36<01:13,  6.11it/s]"
          ]
        },
        {
          "name": "stdout",
          "output_type": "stream",
          "text": [
            "epoch 550, loss 15.686259011285118\n"
          ]
        },
        {
          "name": "stderr",
          "output_type": "stream",
          "text": [
            " 56%|█████▌    | 562/1000 [01:38<01:11,  6.13it/s]"
          ]
        },
        {
          "name": "stdout",
          "output_type": "stream",
          "text": [
            "epoch 560, loss 15.293605495879776\n"
          ]
        },
        {
          "name": "stderr",
          "output_type": "stream",
          "text": [
            " 57%|█████▋    | 572/1000 [01:40<01:08,  6.23it/s]"
          ]
        },
        {
          "name": "stdout",
          "output_type": "stream",
          "text": [
            "epoch 570, loss 15.916554185728922\n"
          ]
        },
        {
          "name": "stderr",
          "output_type": "stream",
          "text": [
            " 58%|█████▊    | 581/1000 [01:42<01:35,  4.40it/s]"
          ]
        },
        {
          "name": "stdout",
          "output_type": "stream",
          "text": [
            "epoch 580, loss 15.810994338101334\n"
          ]
        },
        {
          "name": "stderr",
          "output_type": "stream",
          "text": [
            " 59%|█████▉    | 592/1000 [01:44<01:07,  6.08it/s]"
          ]
        },
        {
          "name": "stdout",
          "output_type": "stream",
          "text": [
            "epoch 590, loss 15.672515344846225\n"
          ]
        },
        {
          "name": "stderr",
          "output_type": "stream",
          "text": [
            " 60%|██████    | 602/1000 [01:45<01:02,  6.33it/s]"
          ]
        },
        {
          "name": "stdout",
          "output_type": "stream",
          "text": [
            "epoch 600, loss 15.429676521021621\n"
          ]
        },
        {
          "name": "stderr",
          "output_type": "stream",
          "text": [
            " 61%|██████    | 612/1000 [01:47<01:03,  6.07it/s]"
          ]
        },
        {
          "name": "stdout",
          "output_type": "stream",
          "text": [
            "epoch 610, loss 14.945360545620979\n"
          ]
        },
        {
          "name": "stderr",
          "output_type": "stream",
          "text": [
            " 62%|██████▏   | 622/1000 [01:48<00:58,  6.41it/s]"
          ]
        },
        {
          "name": "stdout",
          "output_type": "stream",
          "text": [
            "epoch 620, loss 13.689115250233309\n"
          ]
        },
        {
          "name": "stderr",
          "output_type": "stream",
          "text": [
            " 63%|██████▎   | 632/1000 [01:50<01:01,  5.98it/s]"
          ]
        },
        {
          "name": "stdout",
          "output_type": "stream",
          "text": [
            "epoch 630, loss 13.252567887741876\n"
          ]
        },
        {
          "name": "stderr",
          "output_type": "stream",
          "text": [
            " 64%|██████▍   | 642/1000 [01:52<00:56,  6.31it/s]"
          ]
        },
        {
          "name": "stdout",
          "output_type": "stream",
          "text": [
            "epoch 640, loss 13.974018143067818\n"
          ]
        },
        {
          "name": "stderr",
          "output_type": "stream",
          "text": [
            " 65%|██████▌   | 651/1000 [01:53<01:15,  4.61it/s]"
          ]
        },
        {
          "name": "stdout",
          "output_type": "stream",
          "text": [
            "epoch 650, loss 13.900658422582536\n"
          ]
        },
        {
          "name": "stderr",
          "output_type": "stream",
          "text": [
            " 66%|██████▌   | 662/1000 [01:55<00:56,  5.95it/s]"
          ]
        },
        {
          "name": "stdout",
          "output_type": "stream",
          "text": [
            "epoch 660, loss 13.648122270828974\n"
          ]
        },
        {
          "name": "stderr",
          "output_type": "stream",
          "text": [
            " 67%|██████▋   | 672/1000 [01:57<00:53,  6.08it/s]"
          ]
        },
        {
          "name": "stdout",
          "output_type": "stream",
          "text": [
            "epoch 670, loss 13.233830761891822\n"
          ]
        },
        {
          "name": "stderr",
          "output_type": "stream",
          "text": [
            " 68%|██████▊   | 682/1000 [01:59<00:49,  6.39it/s]"
          ]
        },
        {
          "name": "stdout",
          "output_type": "stream",
          "text": [
            "epoch 680, loss 13.985917155186007\n"
          ]
        },
        {
          "name": "stderr",
          "output_type": "stream",
          "text": [
            " 69%|██████▉   | 692/1000 [02:00<00:48,  6.30it/s]"
          ]
        },
        {
          "name": "stdout",
          "output_type": "stream",
          "text": [
            "epoch 690, loss 13.87649840972946\n"
          ]
        },
        {
          "name": "stderr",
          "output_type": "stream",
          "text": [
            " 70%|███████   | 702/1000 [02:02<00:49,  6.03it/s]"
          ]
        },
        {
          "name": "stdout",
          "output_type": "stream",
          "text": [
            "epoch 700, loss 13.69353547835556\n"
          ]
        },
        {
          "name": "stderr",
          "output_type": "stream",
          "text": [
            " 71%|███████   | 712/1000 [02:04<00:47,  6.07it/s]"
          ]
        },
        {
          "name": "stdout",
          "output_type": "stream",
          "text": [
            "epoch 710, loss 13.34591533036668\n"
          ]
        },
        {
          "name": "stderr",
          "output_type": "stream",
          "text": [
            " 72%|███████▏  | 721/1000 [02:05<01:01,  4.54it/s]"
          ]
        },
        {
          "name": "stdout",
          "output_type": "stream",
          "text": [
            "epoch 720, loss 13.891288372033056\n"
          ]
        },
        {
          "name": "stderr",
          "output_type": "stream",
          "text": [
            " 73%|███████▎  | 732/1000 [02:08<00:45,  5.95it/s]"
          ]
        },
        {
          "name": "stdout",
          "output_type": "stream",
          "text": [
            "epoch 730, loss 13.72844010675193\n"
          ]
        },
        {
          "name": "stderr",
          "output_type": "stream",
          "text": [
            " 74%|███████▍  | 742/1000 [02:09<00:44,  5.80it/s]"
          ]
        },
        {
          "name": "stdout",
          "output_type": "stream",
          "text": [
            "epoch 740, loss 13.441529912656609\n"
          ]
        },
        {
          "name": "stderr",
          "output_type": "stream",
          "text": [
            " 75%|███████▌  | 752/1000 [02:11<00:55,  4.49it/s]"
          ]
        },
        {
          "name": "stdout",
          "output_type": "stream",
          "text": [
            "epoch 750, loss 13.907771250963236\n"
          ]
        },
        {
          "name": "stderr",
          "output_type": "stream",
          "text": [
            " 76%|███████▌  | 762/1000 [02:13<00:39,  5.96it/s]"
          ]
        },
        {
          "name": "stdout",
          "output_type": "stream",
          "text": [
            "epoch 760, loss 13.765982789176839\n"
          ]
        },
        {
          "name": "stderr",
          "output_type": "stream",
          "text": [
            " 77%|███████▋  | 772/1000 [02:15<00:37,  6.04it/s]"
          ]
        },
        {
          "name": "stdout",
          "output_type": "stream",
          "text": [
            "epoch 770, loss 13.538207650555032\n"
          ]
        },
        {
          "name": "stderr",
          "output_type": "stream",
          "text": [
            " 78%|███████▊  | 782/1000 [02:16<00:37,  5.77it/s]"
          ]
        },
        {
          "name": "stdout",
          "output_type": "stream",
          "text": [
            "epoch 780, loss 13.126168405038484\n"
          ]
        },
        {
          "name": "stderr",
          "output_type": "stream",
          "text": [
            " 79%|███████▉  | 792/1000 [02:19<00:42,  4.91it/s]"
          ]
        },
        {
          "name": "stdout",
          "output_type": "stream",
          "text": [
            "epoch 790, loss 13.685376354110158\n"
          ]
        },
        {
          "name": "stderr",
          "output_type": "stream",
          "text": [
            " 80%|████████  | 801/1000 [02:20<00:36,  5.48it/s]"
          ]
        },
        {
          "name": "stdout",
          "output_type": "stream",
          "text": [
            "epoch 800, loss 13.388714285855965\n"
          ]
        },
        {
          "name": "stderr",
          "output_type": "stream",
          "text": [
            " 81%|████████  | 812/1000 [02:22<00:31,  5.91it/s]"
          ]
        },
        {
          "name": "stdout",
          "output_type": "stream",
          "text": [
            "epoch 810, loss 15.473433506658111\n"
          ]
        },
        {
          "name": "stderr",
          "output_type": "stream",
          "text": [
            " 82%|████████▏ | 822/1000 [02:24<00:34,  5.20it/s]"
          ]
        },
        {
          "name": "stdout",
          "output_type": "stream",
          "text": [
            "epoch 820, loss 15.158871349245626\n"
          ]
        },
        {
          "name": "stderr",
          "output_type": "stream",
          "text": [
            " 83%|████████▎ | 832/1000 [02:26<00:29,  5.64it/s]"
          ]
        },
        {
          "name": "stdout",
          "output_type": "stream",
          "text": [
            "epoch 830, loss 15.469661882797011\n"
          ]
        },
        {
          "name": "stderr",
          "output_type": "stream",
          "text": [
            " 84%|████████▍ | 842/1000 [02:28<00:26,  6.04it/s]"
          ]
        },
        {
          "name": "stdout",
          "output_type": "stream",
          "text": [
            "epoch 840, loss 15.164658208364616\n"
          ]
        },
        {
          "name": "stderr",
          "output_type": "stream",
          "text": [
            " 85%|████████▌ | 852/1000 [02:31<00:46,  3.16it/s]"
          ]
        },
        {
          "name": "stdout",
          "output_type": "stream",
          "text": [
            "epoch 850, loss 15.309044062444524\n"
          ]
        },
        {
          "name": "stderr",
          "output_type": "stream",
          "text": [
            " 86%|████████▌ | 862/1000 [02:33<00:22,  6.07it/s]"
          ]
        },
        {
          "name": "stdout",
          "output_type": "stream",
          "text": [
            "epoch 860, loss 15.586776605419516\n"
          ]
        },
        {
          "name": "stderr",
          "output_type": "stream",
          "text": [
            " 87%|████████▋ | 872/1000 [02:34<00:21,  6.06it/s]"
          ]
        },
        {
          "name": "stdout",
          "output_type": "stream",
          "text": [
            "epoch 870, loss 15.398397729290036\n"
          ]
        },
        {
          "name": "stderr",
          "output_type": "stream",
          "text": [
            " 88%|████████▊ | 882/1000 [02:36<00:19,  5.97it/s]"
          ]
        },
        {
          "name": "stdout",
          "output_type": "stream",
          "text": [
            "epoch 880, loss 15.118782845508218\n"
          ]
        },
        {
          "name": "stderr",
          "output_type": "stream",
          "text": [
            " 89%|████████▉ | 892/1000 [02:38<00:17,  6.13it/s]"
          ]
        },
        {
          "name": "stdout",
          "output_type": "stream",
          "text": [
            "epoch 890, loss 15.398587153470281\n"
          ]
        },
        {
          "name": "stderr",
          "output_type": "stream",
          "text": [
            " 90%|█████████ | 902/1000 [02:39<00:17,  5.74it/s]"
          ]
        },
        {
          "name": "stdout",
          "output_type": "stream",
          "text": [
            "epoch 900, loss 15.102529060743674\n"
          ]
        },
        {
          "name": "stderr",
          "output_type": "stream",
          "text": [
            " 91%|█████████ | 911/1000 [02:41<00:19,  4.57it/s]"
          ]
        },
        {
          "name": "stdout",
          "output_type": "stream",
          "text": [
            "epoch 910, loss 14.589971030993167\n"
          ]
        },
        {
          "name": "stderr",
          "output_type": "stream",
          "text": [
            " 92%|█████████▏| 922/1000 [02:43<00:14,  5.53it/s]"
          ]
        },
        {
          "name": "stdout",
          "output_type": "stream",
          "text": [
            "epoch 920, loss 13.288312528078912\n"
          ]
        },
        {
          "name": "stderr",
          "output_type": "stream",
          "text": [
            " 93%|█████████▎| 932/1000 [02:46<00:14,  4.68it/s]"
          ]
        },
        {
          "name": "stdout",
          "output_type": "stream",
          "text": [
            "epoch 930, loss 13.711385980032112\n"
          ]
        },
        {
          "name": "stderr",
          "output_type": "stream",
          "text": [
            " 94%|█████████▍| 942/1000 [02:48<00:11,  5.22it/s]"
          ]
        },
        {
          "name": "stdout",
          "output_type": "stream",
          "text": [
            "epoch 940, loss 13.489883657850344\n"
          ]
        },
        {
          "name": "stderr",
          "output_type": "stream",
          "text": [
            " 95%|█████████▌| 951/1000 [02:49<00:08,  5.75it/s]"
          ]
        },
        {
          "name": "stdout",
          "output_type": "stream",
          "text": [
            "epoch 950, loss 13.132460064721581\n"
          ]
        },
        {
          "name": "stderr",
          "output_type": "stream",
          "text": [
            " 96%|█████████▌| 961/1000 [02:51<00:07,  5.17it/s]"
          ]
        },
        {
          "name": "stdout",
          "output_type": "stream",
          "text": [
            "epoch 960, loss 13.604935541232487\n"
          ]
        },
        {
          "name": "stderr",
          "output_type": "stream",
          "text": [
            " 97%|█████████▋| 971/1000 [02:54<00:07,  3.91it/s]"
          ]
        },
        {
          "name": "stdout",
          "output_type": "stream",
          "text": [
            "epoch 970, loss 13.343218763109691\n"
          ]
        },
        {
          "name": "stderr",
          "output_type": "stream",
          "text": [
            " 98%|█████████▊| 982/1000 [02:56<00:03,  5.44it/s]"
          ]
        },
        {
          "name": "stdout",
          "output_type": "stream",
          "text": [
            "epoch 980, loss 13.552981744864473\n"
          ]
        },
        {
          "name": "stderr",
          "output_type": "stream",
          "text": [
            " 99%|█████████▉| 992/1000 [02:58<00:01,  5.42it/s]"
          ]
        },
        {
          "name": "stdout",
          "output_type": "stream",
          "text": [
            "epoch 990, loss 13.282826169099263\n"
          ]
        },
        {
          "name": "stderr",
          "output_type": "stream",
          "text": [
            "100%|██████████| 1000/1000 [02:59<00:00,  5.56it/s]\n"
          ]
        }
      ],
      "source": [
        "def train(x_data, y_data,model):\n",
        "\n",
        "    criterion = torch.nn.BCELoss(reduction=\"sum\")\n",
        "\n",
        "    optimizer = torch.optim.Adagrad(model.parameters())\n",
        "\n",
        "    for epoch in tqdm(range(1000)):\n",
        "        model.train()\n",
        "        optimizer.zero_grad()\n",
        "        # Forward pass\n",
        "        y_pred = torch.reshape(model(x_data),(-1,))\n",
        "        # Compute Loss\n",
        "        loss = criterion(y_pred, y_data)\n",
        "        # Backward pass\n",
        "        loss.backward()\n",
        "        optimizer.step()\n",
        "        if epoch % 10 == 0:\n",
        "            print('epoch {}, loss {}'.format(epoch, loss.item() / len(x_data)))\n",
        "    return\n",
        "train(X_train, y_train,model_quantized)"
      ]
    },
    {
      "cell_type": "code",
      "execution_count": 32,
      "metadata": {
        "id": "CVZtF1uouWjs"
      },
      "outputs": [],
      "source": [
        "def print_size_of_model(model):\n",
        "    torch.save(model.state_dict(), \"temp_delme.p\")\n",
        "    print('Size (KB):', os.path.getsize(\"temp_delme.p\")/1e3)\n",
        "    os.remove('temp_delme.p')"
      ]
    },
    {
      "cell_type": "code",
      "execution_count": 33,
      "metadata": {
        "colab": {
          "base_uri": "https://localhost:8080/"
        },
        "id": "uwuheog8YUNx",
        "outputId": "819e80a3-4dcc-4deb-ca50-670cee0f9ffb"
      },
      "outputs": [
        {
          "name": "stdout",
          "output_type": "stream",
          "text": [
            "Size (KB): 4.194\n",
            "Check statistics of the various layers\n",
            "LogisticRegression(\n",
            "  (linear): Linear(\n",
            "    in_features=8, out_features=1, bias=True\n",
            "    (weight_fake_quant): MinMaxObserver(min_val=-0.275702565908432, max_val=0.33877867460250854)\n",
            "    (activation_post_process): MinMaxObserver(min_val=-33557856.0, max_val=17030178.0)\n",
            "  )\n",
            "  (quant): QuantStub(\n",
            "    (activation_post_process): MinMaxObserver(min_val=0.0, max_val=120000000.0)\n",
            "  )\n",
            "  (dequant): DeQuantStub()\n",
            ")\n"
          ]
        }
      ],
      "source": [
        "print_size_of_model(model_quantized)\n",
        "print(f'Check statistics of the various layers')\n",
        "print(model_quantized)"
      ]
    },
    {
      "cell_type": "code",
      "execution_count": 37,
      "metadata": {
        "id": "lAU48sVahpSJ"
      },
      "outputs": [],
      "source": [
        "def acc(model_quantized):\n",
        "    y_pred = model_quantized(X_test)\n",
        "    num_correct = 0\n",
        "    for i in range(len(y_pred)) :\n",
        "        if y_pred[i] > 0.5 and y_test[i] == 1:\n",
        "            num_correct+=1\n",
        "        elif y_pred[i] <= 0.5 and y_test[i] == 0:\n",
        "            num_correct+=1\n",
        "\n",
        "    print(\"\\nTest on %d samples: %d malicious pkts, predicted correctly %d or %.2f%%\\n\" % (\\\n",
        "        len(y_test), y_test.sum(), num_correct, num_correct * 100.0 / len(y_test)))"
      ]
    },
    {
      "cell_type": "markdown",
      "metadata": {
        "id": "Yh1vbMeLY-SY"
      },
      "source": [
        "# testing before quantization"
      ]
    },
    {
      "cell_type": "code",
      "execution_count": 38,
      "metadata": {
        "colab": {
          "base_uri": "https://localhost:8080/"
        },
        "id": "3lGTGcspY9-T",
        "outputId": "1a475288-b43f-445e-b94e-9132479a3d90"
      },
      "outputs": [
        {
          "name": "stdout",
          "output_type": "stream",
          "text": [
            "\n",
            "Test on 504160 samples: 85403 malicious pkts, predicted correctly 404926 or 80.32%\n",
            "\n"
          ]
        }
      ],
      "source": [
        "acc(model_quantized)"
      ]
    },
    {
      "cell_type": "markdown",
      "metadata": {
        "id": "Ck0MWTMPZEnL"
      },
      "source": [
        "# Quantize the model using the statistics collected"
      ]
    },
    {
      "cell_type": "code",
      "execution_count": 39,
      "metadata": {
        "colab": {
          "base_uri": "https://localhost:8080/"
        },
        "id": "gBY2hGubjpnU",
        "outputId": "d824e464-52bd-4fd4-b3d9-9c926851cddb"
      },
      "outputs": [
        {
          "name": "stdout",
          "output_type": "stream",
          "text": [
            "Check statistics of the various layers\n",
            "LogisticRegression(\n",
            "  (linear): QuantizedLinear(in_features=8, out_features=1, scale=398330.96875, zero_point=84, qscheme=torch.per_tensor_affine)\n",
            "  (quant): Quantize(scale=tensor([944881.8750]), zero_point=tensor([0]), dtype=torch.quint8)\n",
            "  (dequant): DeQuantize()\n",
            ")\n"
          ]
        }
      ],
      "source": [
        "model.eval()\n",
        "model_quantized = torch.ao.quantization.convert(model_quantized)\n",
        "print(f'Check statistics of the various layers')\n",
        "print(model_quantized)"
      ]
    },
    {
      "cell_type": "markdown",
      "metadata": {
        "id": "qvTklMopZIh6"
      },
      "source": [
        "# Print weights and size of the model after quantization"
      ]
    },
    {
      "cell_type": "code",
      "execution_count": 40,
      "metadata": {
        "colab": {
          "base_uri": "https://localhost:8080/"
        },
        "id": "A0gvMY0PZH6_",
        "outputId": "47da34a1-eac0-4ca5-de8c-c13773d0ed6f"
      },
      "outputs": [
        {
          "name": "stdout",
          "output_type": "stream",
          "text": [
            "Weights after quantization\n",
            "tensor([[  0, -80, 106,  -9, -85, -52, 106, -45]], dtype=torch.int8)\n",
            "Parameter containing:\n",
            "tensor([0.0278], requires_grad=True)\n",
            "Size after quantization\n",
            "Size (KB): 2.854\n"
          ]
        }
      ],
      "source": [
        "print('Weights after quantization')\n",
        "print(torch.int_repr(model_quantized.linear.weight()))\n",
        "print(model_quantized.linear.bias())\n",
        "print(\"Size after quantization\")\n",
        "print_size_of_model(model_quantized)"
      ]
    },
    {
      "cell_type": "markdown",
      "metadata": {
        "id": "2SnDqsZGZOok"
      },
      "source": [
        "# testing after quantization\n"
      ]
    },
    {
      "cell_type": "code",
      "execution_count": 41,
      "metadata": {
        "colab": {
          "base_uri": "https://localhost:8080/"
        },
        "id": "DuUDW9mbZQh1",
        "outputId": "2e0548d1-1ec7-4539-980b-96f5ef1df7bb"
      },
      "outputs": [
        {
          "name": "stdout",
          "output_type": "stream",
          "text": [
            "\n",
            "Test on 504160 samples: 85403 malicious pkts, predicted correctly 418576 or 83.02%\n",
            "\n"
          ]
        }
      ],
      "source": [
        "acc(model_quantized)"
      ]
    },
    {
      "cell_type": "markdown",
      "metadata": {
        "id": "V3Ut-YotZTpz"
      },
      "source": [
        "## Saving the model weights\n"
      ]
    },
    {
      "cell_type": "code",
      "execution_count": null,
      "metadata": {
        "colab": {
          "base_uri": "https://localhost:8080/"
        },
        "id": "3ycgI47eZVH1",
        "outputId": "6e8eabeb-5d70-47bf-d8ca-cdb84e1f4ef2"
      },
      "outputs": [],
      "source": [
        "torch.save(model.state_dict(), './src/model_weights.pth')\n",
        "\n",
        "w = (torch.load('./src/model_weights.pth'))\n",
        "print(w)"
      ]
    },
    {
      "cell_type": "code",
      "execution_count": null,
      "metadata": {
        "id": "_AjSO8w0aKv1"
      },
      "outputs": [],
      "source": [
        "for i in w:\n",
        "  print(\"Key:\",i)\n",
        "  print(\"Value:\",(w[i]))"
      ]
    }
  ],
  "metadata": {
    "accelerator": "GPU",
    "colab": {
      "gpuType": "T4",
      "provenance": []
    },
    "kernelspec": {
      "display_name": "Python 3",
      "name": "python3"
    },
    "language_info": {
      "name": "python"
    }
  },
  "nbformat": 4,
  "nbformat_minor": 0
}
